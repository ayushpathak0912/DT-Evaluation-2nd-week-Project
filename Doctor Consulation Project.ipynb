{
 "cells": [
  {
   "cell_type": "markdown",
   "metadata": {},
   "source": [
    "# Problem Statement:-"
   ]
  },
  {
   "cell_type": "markdown",
   "metadata": {},
   "source": [
    "We have all been in situation where we go to a doctor in emergency and find that the consultation fees are too high. As a data scientist we all should do better. What if we have data that records important details about a doctor and you get to build a model to predict the doctor’s consulting fee.? This is the use case that let's you do that. "
   ]
  },
  {
   "cell_type": "markdown",
   "metadata": {},
   "source": [
    "# Data Set-"
   ]
  },
  {
   "cell_type": "markdown",
   "metadata": {},
   "source": [
    "Size of training set: 5961 records\n",
    "\n",
    "Size of test set: 1987 records"
   ]
  },
  {
   "cell_type": "markdown",
   "metadata": {},
   "source": [
    "# Data"
   ]
  },
  {
   "cell_type": "code",
   "execution_count": 93,
   "metadata": {},
   "outputs": [
    {
     "name": "stdout",
     "output_type": "stream",
     "text": [
      "All Libraries are loaded succesfully\n"
     ]
    }
   ],
   "source": [
    "import pandas as pd\n",
    "import numpy as np\n",
    "import matplotlib.pyplot as plt\n",
    "import seaborn as sns\n",
    "import warnings\n",
    "warnings.filterwarnings('ignore')\n",
    "print(\"All Libraries are loaded succesfully\")"
   ]
  },
  {
   "cell_type": "code",
   "execution_count": 94,
   "metadata": {},
   "outputs": [
    {
     "name": "stdout",
     "output_type": "stream",
     "text": [
      "Final Training dataset of Doctor Consulation loaded successfully\n"
     ]
    }
   ],
   "source": [
    "df = pd.read_excel(\"Final_Train.xlsx\")\n",
    "print(\"Final Training dataset of Doctor Consulation loaded successfully\")"
   ]
  },
  {
   "cell_type": "code",
   "execution_count": 95,
   "metadata": {},
   "outputs": [
    {
     "data": {
      "text/html": [
       "<div>\n",
       "<style scoped>\n",
       "    .dataframe tbody tr th:only-of-type {\n",
       "        vertical-align: middle;\n",
       "    }\n",
       "\n",
       "    .dataframe tbody tr th {\n",
       "        vertical-align: top;\n",
       "    }\n",
       "\n",
       "    .dataframe thead th {\n",
       "        text-align: right;\n",
       "    }\n",
       "</style>\n",
       "<table border=\"1\" class=\"dataframe\">\n",
       "  <thead>\n",
       "    <tr style=\"text-align: right;\">\n",
       "      <th></th>\n",
       "      <th>Qualification</th>\n",
       "      <th>Experience</th>\n",
       "      <th>Rating</th>\n",
       "      <th>Place</th>\n",
       "      <th>Profile</th>\n",
       "      <th>Miscellaneous_Info</th>\n",
       "      <th>Fees</th>\n",
       "    </tr>\n",
       "  </thead>\n",
       "  <tbody>\n",
       "    <tr>\n",
       "      <th>0</th>\n",
       "      <td>BHMS, MD - Homeopathy</td>\n",
       "      <td>24 years experience</td>\n",
       "      <td>100%</td>\n",
       "      <td>Kakkanad, Ernakulam</td>\n",
       "      <td>Homeopath</td>\n",
       "      <td>100% 16 Feedback Kakkanad, Ernakulam</td>\n",
       "      <td>100</td>\n",
       "    </tr>\n",
       "    <tr>\n",
       "      <th>1</th>\n",
       "      <td>BAMS, MD - Ayurveda Medicine</td>\n",
       "      <td>12 years experience</td>\n",
       "      <td>98%</td>\n",
       "      <td>Whitefield, Bangalore</td>\n",
       "      <td>Ayurveda</td>\n",
       "      <td>98% 76 Feedback Whitefield, Bangalore</td>\n",
       "      <td>350</td>\n",
       "    </tr>\n",
       "    <tr>\n",
       "      <th>2</th>\n",
       "      <td>MBBS, MS - Otorhinolaryngology</td>\n",
       "      <td>9 years experience</td>\n",
       "      <td>NaN</td>\n",
       "      <td>Mathikere - BEL, Bangalore</td>\n",
       "      <td>ENT Specialist</td>\n",
       "      <td>NaN</td>\n",
       "      <td>300</td>\n",
       "    </tr>\n",
       "    <tr>\n",
       "      <th>3</th>\n",
       "      <td>BSc - Zoology, BAMS</td>\n",
       "      <td>12 years experience</td>\n",
       "      <td>NaN</td>\n",
       "      <td>Bannerghatta Road, Bangalore</td>\n",
       "      <td>Ayurveda</td>\n",
       "      <td>Bannerghatta Road, Bangalore ₹250 Available on...</td>\n",
       "      <td>250</td>\n",
       "    </tr>\n",
       "    <tr>\n",
       "      <th>4</th>\n",
       "      <td>BAMS</td>\n",
       "      <td>20 years experience</td>\n",
       "      <td>100%</td>\n",
       "      <td>Keelkattalai, Chennai</td>\n",
       "      <td>Ayurveda</td>\n",
       "      <td>100% 4 Feedback Keelkattalai, Chennai</td>\n",
       "      <td>250</td>\n",
       "    </tr>\n",
       "  </tbody>\n",
       "</table>\n",
       "</div>"
      ],
      "text/plain": [
       "                    Qualification           Experience Rating  \\\n",
       "0           BHMS, MD - Homeopathy  24 years experience   100%   \n",
       "1    BAMS, MD - Ayurveda Medicine  12 years experience    98%   \n",
       "2  MBBS, MS - Otorhinolaryngology   9 years experience    NaN   \n",
       "3             BSc - Zoology, BAMS  12 years experience    NaN   \n",
       "4                            BAMS  20 years experience   100%   \n",
       "\n",
       "                          Place         Profile  \\\n",
       "0           Kakkanad, Ernakulam       Homeopath   \n",
       "1         Whitefield, Bangalore        Ayurveda   \n",
       "2    Mathikere - BEL, Bangalore  ENT Specialist   \n",
       "3  Bannerghatta Road, Bangalore        Ayurveda   \n",
       "4         Keelkattalai, Chennai        Ayurveda   \n",
       "\n",
       "                                  Miscellaneous_Info  Fees  \n",
       "0               100% 16 Feedback Kakkanad, Ernakulam   100  \n",
       "1              98% 76 Feedback Whitefield, Bangalore   350  \n",
       "2                                                NaN   300  \n",
       "3  Bannerghatta Road, Bangalore ₹250 Available on...   250  \n",
       "4              100% 4 Feedback Keelkattalai, Chennai   250  "
      ]
     },
     "execution_count": 95,
     "metadata": {},
     "output_type": "execute_result"
    }
   ],
   "source": [
    "df.head()"
   ]
  },
  {
   "cell_type": "code",
   "execution_count": 96,
   "metadata": {},
   "outputs": [
    {
     "data": {
      "text/html": [
       "<div>\n",
       "<style scoped>\n",
       "    .dataframe tbody tr th:only-of-type {\n",
       "        vertical-align: middle;\n",
       "    }\n",
       "\n",
       "    .dataframe tbody tr th {\n",
       "        vertical-align: top;\n",
       "    }\n",
       "\n",
       "    .dataframe thead th {\n",
       "        text-align: right;\n",
       "    }\n",
       "</style>\n",
       "<table border=\"1\" class=\"dataframe\">\n",
       "  <thead>\n",
       "    <tr style=\"text-align: right;\">\n",
       "      <th></th>\n",
       "      <th>Qualification</th>\n",
       "      <th>Experience</th>\n",
       "      <th>Rating</th>\n",
       "      <th>Place</th>\n",
       "      <th>Profile</th>\n",
       "      <th>Miscellaneous_Info</th>\n",
       "      <th>Fees</th>\n",
       "    </tr>\n",
       "  </thead>\n",
       "  <tbody>\n",
       "    <tr>\n",
       "      <th>5956</th>\n",
       "      <td>MBBS, MS - ENT</td>\n",
       "      <td>19 years experience</td>\n",
       "      <td>98%</td>\n",
       "      <td>Basavanagudi, Bangalore</td>\n",
       "      <td>ENT Specialist</td>\n",
       "      <td>98% 45 Feedback Basavanagudi, Bangalore</td>\n",
       "      <td>300</td>\n",
       "    </tr>\n",
       "    <tr>\n",
       "      <th>5957</th>\n",
       "      <td>MBBS</td>\n",
       "      <td>33 years experience</td>\n",
       "      <td>NaN</td>\n",
       "      <td>Nungambakkam, Chennai</td>\n",
       "      <td>General Medicine</td>\n",
       "      <td>NaN</td>\n",
       "      <td>100</td>\n",
       "    </tr>\n",
       "    <tr>\n",
       "      <th>5958</th>\n",
       "      <td>MBBS</td>\n",
       "      <td>41 years experience</td>\n",
       "      <td>97%</td>\n",
       "      <td>Greater Kailash Part 2, Delhi</td>\n",
       "      <td>General Medicine</td>\n",
       "      <td>97% 11 Feedback Greater Kailash Part 2, Delhi</td>\n",
       "      <td>600</td>\n",
       "    </tr>\n",
       "    <tr>\n",
       "      <th>5959</th>\n",
       "      <td>MBBS, MD - General Medicine</td>\n",
       "      <td>15 years experience</td>\n",
       "      <td>90%</td>\n",
       "      <td>Vileparle West, Mumbai</td>\n",
       "      <td>General Medicine</td>\n",
       "      <td>General Medical Consultation Viral Fever Treat...</td>\n",
       "      <td>100</td>\n",
       "    </tr>\n",
       "    <tr>\n",
       "      <th>5960</th>\n",
       "      <td>BDS, MDS - Orthodontics</td>\n",
       "      <td>17 years experience</td>\n",
       "      <td>100%</td>\n",
       "      <td>Pitampura, Delhi</td>\n",
       "      <td>Dentist</td>\n",
       "      <td>Acrylic Partial Denture Crowns and Bridges Fix...</td>\n",
       "      <td>200</td>\n",
       "    </tr>\n",
       "  </tbody>\n",
       "</table>\n",
       "</div>"
      ],
      "text/plain": [
       "                    Qualification           Experience Rating  \\\n",
       "5956               MBBS, MS - ENT  19 years experience    98%   \n",
       "5957                         MBBS  33 years experience    NaN   \n",
       "5958                         MBBS  41 years experience    97%   \n",
       "5959  MBBS, MD - General Medicine  15 years experience    90%   \n",
       "5960      BDS, MDS - Orthodontics  17 years experience   100%   \n",
       "\n",
       "                              Place           Profile  \\\n",
       "5956        Basavanagudi, Bangalore    ENT Specialist   \n",
       "5957          Nungambakkam, Chennai  General Medicine   \n",
       "5958  Greater Kailash Part 2, Delhi  General Medicine   \n",
       "5959         Vileparle West, Mumbai  General Medicine   \n",
       "5960               Pitampura, Delhi           Dentist   \n",
       "\n",
       "                                     Miscellaneous_Info  Fees  \n",
       "5956            98% 45 Feedback Basavanagudi, Bangalore   300  \n",
       "5957                                                NaN   100  \n",
       "5958      97% 11 Feedback Greater Kailash Part 2, Delhi   600  \n",
       "5959  General Medical Consultation Viral Fever Treat...   100  \n",
       "5960  Acrylic Partial Denture Crowns and Bridges Fix...   200  "
      ]
     },
     "execution_count": 96,
     "metadata": {},
     "output_type": "execute_result"
    }
   ],
   "source": [
    "df.tail()"
   ]
  },
  {
   "cell_type": "markdown",
   "metadata": {},
   "source": [
    "# Label Description-"
   ]
  },
  {
   "cell_type": "code",
   "execution_count": 97,
   "metadata": {},
   "outputs": [
    {
     "data": {
      "text/plain": [
       "Index(['Qualification', 'Experience', 'Rating', 'Place', 'Profile',\n",
       "       'Miscellaneous_Info', 'Fees'],\n",
       "      dtype='object')"
      ]
     },
     "execution_count": 97,
     "metadata": {},
     "output_type": "execute_result"
    }
   ],
   "source": [
    "df.columns"
   ]
  },
  {
   "cell_type": "markdown",
   "metadata": {},
   "source": [
    "Qualification: Qualification and degrees held by the doctor\n",
    "\n",
    "Experience: Experience of the doctor in number of years\n",
    "\n",
    "Rating: Rating given by patients\n",
    "\n",
    "Profile: Type of the doctor\n",
    "\n",
    "Miscellaneous_Info: Extra information about the doctor\n",
    "\n",
    "Fees: Fees charged by the doctor (Target Variable)\n",
    "\n",
    "Place: Area and the city where the doctor is located."
   ]
  },
  {
   "cell_type": "code",
   "execution_count": 98,
   "metadata": {},
   "outputs": [
    {
     "data": {
      "text/plain": [
       "(5961, 7)"
      ]
     },
     "execution_count": 98,
     "metadata": {},
     "output_type": "execute_result"
    }
   ],
   "source": [
    "df.shape"
   ]
  },
  {
   "cell_type": "markdown",
   "metadata": {},
   "source": [
    "So, there is 5961 rows and 7 columns present in the datsets."
   ]
  },
  {
   "cell_type": "markdown",
   "metadata": {},
   "source": [
    "# EDA"
   ]
  },
  {
   "cell_type": "code",
   "execution_count": 99,
   "metadata": {},
   "outputs": [
    {
     "name": "stdout",
     "output_type": "stream",
     "text": [
      "<class 'pandas.core.frame.DataFrame'>\n",
      "RangeIndex: 5961 entries, 0 to 5960\n",
      "Data columns (total 7 columns):\n",
      " #   Column              Non-Null Count  Dtype \n",
      "---  ------              --------------  ----- \n",
      " 0   Qualification       5961 non-null   object\n",
      " 1   Experience          5961 non-null   object\n",
      " 2   Rating              2659 non-null   object\n",
      " 3   Place               5936 non-null   object\n",
      " 4   Profile             5961 non-null   object\n",
      " 5   Miscellaneous_Info  3341 non-null   object\n",
      " 6   Fees                5961 non-null   int64 \n",
      "dtypes: int64(1), object(6)\n",
      "memory usage: 186.3+ KB\n"
     ]
    }
   ],
   "source": [
    "df.info()"
   ]
  },
  {
   "cell_type": "markdown",
   "metadata": {},
   "source": [
    "Fess is the only column having int datatype where as all others are categorical(object) datatype."
   ]
  },
  {
   "cell_type": "code",
   "execution_count": 100,
   "metadata": {},
   "outputs": [
    {
     "data": {
      "image/png": "[encoded data removed]",
      "text/plain": [
       "<Figure size 432x288 with 2 Axes>"
      ]
     },
     "metadata": {
      "needs_background": "light"
     },
     "output_type": "display_data"
    }
   ],
   "source": [
    "#checking null values using heatmap\n",
    "\n",
    "sns.heatmap(df.isnull(),cmap='Reds')\n",
    "plt.show()"
   ]
  },
  {
   "cell_type": "code",
   "execution_count": 101,
   "metadata": {},
   "outputs": [
    {
     "data": {
      "text/plain": [
       "Qualification            0\n",
       "Experience               0\n",
       "Rating                3302\n",
       "Place                   25\n",
       "Profile                  0\n",
       "Miscellaneous_Info    2620\n",
       "Fees                     0\n",
       "dtype: int64"
      ]
     },
     "execution_count": 101,
     "metadata": {},
     "output_type": "execute_result"
    }
   ],
   "source": [
    "df.isnull().sum()"
   ]
  },
  {
   "cell_type": "markdown",
   "metadata": {},
   "source": [
    "So, there is null values are present in two columns i.e, Rating,Miscellaneous_Info & Place."
   ]
  },
  {
   "cell_type": "code",
   "execution_count": 102,
   "metadata": {},
   "outputs": [],
   "source": [
    "df.drop('Rating',axis=1,inplace=True)\n",
    "df.drop('Miscellaneous_Info',axis=1,inplace=True)"
   ]
  },
  {
   "cell_type": "markdown",
   "metadata": {},
   "source": [
    "Here Rating Column and Miscellaneous_Info has maximum no of Null so I am deleting these Column"
   ]
  },
  {
   "cell_type": "code",
   "execution_count": 103,
   "metadata": {},
   "outputs": [
    {
     "data": {
      "text/html": [
       "<div>\n",
       "<style scoped>\n",
       "    .dataframe tbody tr th:only-of-type {\n",
       "        vertical-align: middle;\n",
       "    }\n",
       "\n",
       "    .dataframe tbody tr th {\n",
       "        vertical-align: top;\n",
       "    }\n",
       "\n",
       "    .dataframe thead th {\n",
       "        text-align: right;\n",
       "    }\n",
       "</style>\n",
       "<table border=\"1\" class=\"dataframe\">\n",
       "  <thead>\n",
       "    <tr style=\"text-align: right;\">\n",
       "      <th></th>\n",
       "      <th>Qualification</th>\n",
       "      <th>Experience</th>\n",
       "      <th>Place</th>\n",
       "      <th>Profile</th>\n",
       "      <th>Fees</th>\n",
       "    </tr>\n",
       "  </thead>\n",
       "  <tbody>\n",
       "    <tr>\n",
       "      <th>0</th>\n",
       "      <td>BHMS, MD - Homeopathy</td>\n",
       "      <td>24 years experience</td>\n",
       "      <td>Kakkanad, Ernakulam</td>\n",
       "      <td>Homeopath</td>\n",
       "      <td>100</td>\n",
       "    </tr>\n",
       "    <tr>\n",
       "      <th>1</th>\n",
       "      <td>BAMS, MD - Ayurveda Medicine</td>\n",
       "      <td>12 years experience</td>\n",
       "      <td>Whitefield, Bangalore</td>\n",
       "      <td>Ayurveda</td>\n",
       "      <td>350</td>\n",
       "    </tr>\n",
       "    <tr>\n",
       "      <th>2</th>\n",
       "      <td>MBBS, MS - Otorhinolaryngology</td>\n",
       "      <td>9 years experience</td>\n",
       "      <td>Mathikere - BEL, Bangalore</td>\n",
       "      <td>ENT Specialist</td>\n",
       "      <td>300</td>\n",
       "    </tr>\n",
       "    <tr>\n",
       "      <th>3</th>\n",
       "      <td>BSc - Zoology, BAMS</td>\n",
       "      <td>12 years experience</td>\n",
       "      <td>Bannerghatta Road, Bangalore</td>\n",
       "      <td>Ayurveda</td>\n",
       "      <td>250</td>\n",
       "    </tr>\n",
       "    <tr>\n",
       "      <th>4</th>\n",
       "      <td>BAMS</td>\n",
       "      <td>20 years experience</td>\n",
       "      <td>Keelkattalai, Chennai</td>\n",
       "      <td>Ayurveda</td>\n",
       "      <td>250</td>\n",
       "    </tr>\n",
       "  </tbody>\n",
       "</table>\n",
       "</div>"
      ],
      "text/plain": [
       "                    Qualification           Experience  \\\n",
       "0           BHMS, MD - Homeopathy  24 years experience   \n",
       "1    BAMS, MD - Ayurveda Medicine  12 years experience   \n",
       "2  MBBS, MS - Otorhinolaryngology   9 years experience   \n",
       "3             BSc - Zoology, BAMS  12 years experience   \n",
       "4                            BAMS  20 years experience   \n",
       "\n",
       "                          Place         Profile  Fees  \n",
       "0           Kakkanad, Ernakulam       Homeopath   100  \n",
       "1         Whitefield, Bangalore        Ayurveda   350  \n",
       "2    Mathikere - BEL, Bangalore  ENT Specialist   300  \n",
       "3  Bannerghatta Road, Bangalore        Ayurveda   250  \n",
       "4         Keelkattalai, Chennai        Ayurveda   250  "
      ]
     },
     "execution_count": 103,
     "metadata": {},
     "output_type": "execute_result"
    }
   ],
   "source": [
    "df.head()"
   ]
  },
  {
   "cell_type": "code",
   "execution_count": 104,
   "metadata": {},
   "outputs": [],
   "source": [
    "for column in ['Place']:\n",
    "    df[column].fillna(df[column].mode()[0], inplace=True) "
   ]
  },
  {
   "cell_type": "markdown",
   "metadata": {},
   "source": [
    "Filling Null Values with Mode"
   ]
  },
  {
   "cell_type": "code",
   "execution_count": 105,
   "metadata": {},
   "outputs": [
    {
     "data": {
      "text/plain": [
       "Qualification    0\n",
       "Experience       0\n",
       "Place            0\n",
       "Profile          0\n",
       "Fees             0\n",
       "dtype: int64"
      ]
     },
     "execution_count": 105,
     "metadata": {},
     "output_type": "execute_result"
    }
   ],
   "source": [
    "df.isnull().sum()"
   ]
  },
  {
   "cell_type": "markdown",
   "metadata": {},
   "source": [
    "Now no null values are present in the datasets-"
   ]
  },
  {
   "cell_type": "code",
   "execution_count": 106,
   "metadata": {},
   "outputs": [
    {
     "data": {
      "text/plain": [
       "array(['BHMS, MD - Homeopathy', 'BAMS, MD - Ayurveda Medicine',\n",
       "       'MBBS, MS - Otorhinolaryngology', ...,\n",
       "       'MD - Dermatology , Venereology & Leprosy, MBBS, Fellowship In Dermatosurgery',\n",
       "       'BDS, certification in smile designing',\n",
       "       'MD - Homeopathy, Post Graduate Diploma in Healthcare Management(PGDHM), DHMS (Diploma in Homeopathic Medicine and Surgery)'],\n",
       "      dtype=object)"
      ]
     },
     "execution_count": 106,
     "metadata": {},
     "output_type": "execute_result"
    }
   ],
   "source": [
    "df['Qualification'].unique()"
   ]
  },
  {
   "cell_type": "code",
   "execution_count": 107,
   "metadata": {},
   "outputs": [
    {
     "data": {
      "text/plain": [
       "array(['24 years experience', '12 years experience', '9 years experience',\n",
       "       '20 years experience', '8 years experience', '42 years experience',\n",
       "       '10 years experience', '14 years experience',\n",
       "       '23 years experience', '5 years experience', '7 years experience',\n",
       "       '21 years experience', '19 years experience',\n",
       "       '41 years experience', '31 years experience',\n",
       "       '25 years experience', '16 years experience',\n",
       "       '15 years experience', '11 years experience',\n",
       "       '22 years experience', '38 years experience', '6 years experience',\n",
       "       '36 years experience', '13 years experience',\n",
       "       '18 years experience', '46 years experience',\n",
       "       '40 years experience', '49 years experience',\n",
       "       '33 years experience', '0 years experience', '27 years experience',\n",
       "       '30 years experience', '52 years experience',\n",
       "       '60 years experience', '26 years experience',\n",
       "       '35 years experience', '34 years experience',\n",
       "       '39 years experience', '32 years experience',\n",
       "       '17 years experience', '28 years experience',\n",
       "       '58 years experience', '4 years experience', '45 years experience',\n",
       "       '44 years experience', '3 years experience', '37 years experience',\n",
       "       '50 years experience', '29 years experience',\n",
       "       '43 years experience', '54 years experience',\n",
       "       '66 years experience', '2 years experience', '51 years experience',\n",
       "       '47 years experience', '48 years experience',\n",
       "       '53 years experience', '56 years experience',\n",
       "       '61 years experience', '59 years experience',\n",
       "       '57 years experience', '55 years experience',\n",
       "       '65 years experience', '64 years experience'], dtype=object)"
      ]
     },
     "execution_count": 107,
     "metadata": {},
     "output_type": "execute_result"
    }
   ],
   "source": [
    "df['Experience'].unique()"
   ]
  },
  {
   "cell_type": "code",
   "execution_count": 108,
   "metadata": {},
   "outputs": [
    {
     "data": {
      "text/plain": [
       "array(['Kakkanad, Ernakulam', 'Whitefield, Bangalore',\n",
       "       'Mathikere - BEL, Bangalore', 'Bannerghatta Road, Bangalore',\n",
       "       'Keelkattalai, Chennai', 'Porur, Chennai', 'Karol Bagh, Delhi',\n",
       "       'Arekere, Bangalore', 'Old City, Hyderabad', 'Athani, Ernakulam',\n",
       "       'Thousand Lights, Chennai', 'Somajiguda, Hyderabad',\n",
       "       'Coimbatore Racecourse, Coimbatore', 'Jubilee Hills, Hyderabad',\n",
       "       'Kondli, Delhi', 'Saroor Nagar, Hyderabad',\n",
       "       'Tambaram West, Chennai', 'Purasawakkam, Chennai',\n",
       "       'KPHB, Hyderabad', 'HSR Layout, Bangalore', 'Pollachi, Coimbatore',\n",
       "       'Vasundhra Enclave, Delhi', 'Chembur, Mumbai',\n",
       "       'Thammanam, Ernakulam', 'Andheri, Mumbai',\n",
       "       'Pattom, Thiruvananthapuram', 'Kukatpally, Hyderabad',\n",
       "       'Vadavalli, Coimbatore', 'Defence Colony, Delhi',\n",
       "       'Banjara Hills, Hyderabad', 'Sion West, Mumbai', 'CR Park, Delhi',\n",
       "       'Mogappair East, Chennai', 'IP Extension, Delhi',\n",
       "       'Safdarjung Enclave, Delhi', 'New Friends Colony, Delhi',\n",
       "       'Borivali West, Mumbai', 'Saket, Delhi', 'Malad, Mumbai',\n",
       "       'Hyder Nagar, Hyderabad', 'Dahisar West, Mumbai',\n",
       "       'RT Nagar, Bangalore', 'Powai, Mumbai', 'Basheerbagh, Hyderabad',\n",
       "       'Musheerabad, Hyderabad', 'AS Rao Nagar, Hyderabad',\n",
       "       'Madhapur, Hyderabad', 'Gandhinagar, Hyderabad',\n",
       "       'Chetpet, Chennai', 'Vileparle East, Mumbai',\n",
       "       'Yelahanka New Town, Bangalore', 'Kodambakkam, Chennai',\n",
       "       'Malleswaram, Bangalore', 'Pallikaranai, Chennai',\n",
       "       'Nallakunta, Hyderabad', 'Paschim Vihar, Delhi',\n",
       "       'Meera Bagh, Delhi', 'Chattarpur, Delhi', 'Andheri West, Mumbai',\n",
       "       'Himayat Nagar, Hyderabad', 'Adambakkam, Chennai',\n",
       "       'Punjabi Bagh, Delhi', 'Mahalaxmi, Mumbai', 'Kalina, Mumbai',\n",
       "       'Attapur, Hyderabad', 'Lakdikapul, Hyderabad', 'Ambattur, Chennai',\n",
       "       'Ramnagar, Coimbatore', 'Shalimar Bagh, Delhi',\n",
       "       'Nungambakkam, Chennai', 'Miyapur, Hyderabad', 'Sagarpur, Delhi',\n",
       "       'Girgaon, Mumbai', 'Jayanagar, Bangalore',\n",
       "       'Palayam, Thiruvananthapuram', 'Munirka, Delhi',\n",
       "       'Tuglakabad, Delhi', 'Moosarambagh, Hyderabad',\n",
       "       'Anna Nagar East, Chennai', 'Bandra West, Mumbai',\n",
       "       'Kanakpura Road, Bangalore', 'Green Park, Delhi',\n",
       "       'Maduravoyal, Chennai', 'Dahisar East, Mumbai',\n",
       "       'Moosapet, Hyderabad', 'Koramangala, Bangalore',\n",
       "       'TV Medical College, Thiruvananthapuram', 'Kadavanthra, Ernakulam',\n",
       "       'Greams Road, Chennai', 'Bommanahalli, Bangalore',\n",
       "       'T Nagar, Chennai', 'Yelahanka, Bangalore',\n",
       "       'Hazrat Nizamuddin, Delhi', 'Old Rajendra Nagar, Delhi',\n",
       "       'Dadar West, Mumbai', 'Indiranagar, Bangalore',\n",
       "       'Perumbakkam, Chennai', 'Shaikpet, Hyderabad',\n",
       "       'Vyttila, Ernakulam', 'Khar West, Mumbai', 'Goregaon West, Mumbai',\n",
       "       'Bakkarwala, Delhi', 'Nesapakkam, Chennai',\n",
       "       'BTM Layout 2nd Stage, Bangalore', 'Ashok Nagar, Chennai',\n",
       "       'Chandivali, Mumbai', 'Uttam Nagar, Delhi',\n",
       "       'Gujranwala Town, Delhi', 'Greater Kailash Part 1, Delhi',\n",
       "       'Panchsheel Park, Delhi', 'Thoraipakkam, Chennai',\n",
       "       'South Extension 2, Delhi', 'Kandivali East, Mumbai',\n",
       "       'Pitampura, Delhi', 'Banashankari 3rd Stage, Bangalore',\n",
       "       'Kolenchery, Ernakulam', 'Kumaraswamy Layout, Bangalore',\n",
       "       'Vadapalani, Chennai', 'Manikonda, Hyderabad',\n",
       "       'Gandhipuram, Coimbatore', 'Yeshwanthpur, Bangalore',\n",
       "       'Ayanavaram, Chennai', 'Basaveshwaranagar, Bangalore',\n",
       "       'Malad West, Mumbai', 'Vikas Puri, Delhi', 'Kondapur, Hyderabad',\n",
       "       'Andheri East, Mumbai', 'Sulur, Coimbatore', 'Adyar, Chennai',\n",
       "       'Krishna Nagar, Delhi', 'Langer House, Hyderabad',\n",
       "       'Thiruvanmiyur, Chennai', 'Dwarka, Delhi', 'Bhandup West, Mumbai',\n",
       "       'Janak Puri, Delhi', 'Rajajinagar, Bangalore',\n",
       "       'South Extension 1, Delhi', 'Kemps Corner, Mumbai',\n",
       "       'Peelamedu, Coimbatore', 'Kandivali West, Mumbai',\n",
       "       'Thevara, Ernakulam', 'Wilson Garden, Bangalore', 'Wadala, Mumbai',\n",
       "       'Pahar Ganj, Delhi', 'Chanchalguda, Hyderabad',\n",
       "       'Chikkadpally, Hyderabad', 'Pasur-avanashi, Coimbatore',\n",
       "       'Nagarbhavi, Bangalore', 'Lajpat Nagar, Delhi',\n",
       "       'Mayur Vihar Ph-I, Delhi', 'Dilshad Garden, Delhi',\n",
       "       'Vijayanagar, Bangalore', 'Alwarpet, Chennai',\n",
       "       'Pappanamcode, Thiruvananthapuram', 'Aluva, Ernakulam',\n",
       "       'Nariman Point, Mumbai', 'Kilkattalai, Chennai',\n",
       "       'Dilsukhnagar, Hyderabad', 'Kurla West, Mumbai',\n",
       "       'Begumpet, Hyderabad', 'Kaloor, Ernakulam',\n",
       "       'Hitech City, Hyderabad', 'Goregaon East, Mumbai',\n",
       "       'Velandipalayam, Coimbatore', 'Ghatkopar East, Mumbai',\n",
       "       'Mulund West, Mumbai', 'Yousufguda, Hyderabad',\n",
       "       'Ghatkopar West, Mumbai', 'TVM Beach, Thiruvananthapuram',\n",
       "       'Vanagaram, Chennai', 'Worli, Mumbai',\n",
       "       'Koramangala 1 Block, Bangalore', 'Saki Vihar Road, Mumbai',\n",
       "       'Versova, Mumbai', 'CV Raman Nagar, Bangalore',\n",
       "       'Secunderabad, Hyderabad', 'BTM Layout 1st Stage, Bangalore',\n",
       "       'Ramkoti, Hyderabad', 'MRC Nagar, Chennai',\n",
       "       'Malkajgiri, Hyderabad', 'Gachibowli, Hyderabad',\n",
       "       'Mogappair West, Chennai', 'Mayur Vihar Ph-III, Delhi',\n",
       "       'Kurla East, Mumbai', 'Ashok Vihar, Delhi', 'Mahim, Mumbai',\n",
       "       'Villivakkam, Chennai', 'Srinagar Colony, Hyderabad',\n",
       "       'Chromepet, Chennai', 'Pammal, Chennai', 'Banashankari, Bangalore',\n",
       "       'Velachery, Chennai', 'Chanakyapuri, Delhi',\n",
       "       'Kalyan Nagar, Bangalore', 'Oshiwara, Mumbai',\n",
       "       'Karapakkam, Chennai', 'Borivali, Mumbai', 'Mylapore, Chennai',\n",
       "       'Electronics City, Bangalore', 'Perungudi, Chennai',\n",
       "       'Basavanagudi, Bangalore', 'MG Road, Bangalore',\n",
       "       'Thiruvottiyur, Chennai', 'Greater Kailash Part 2, Delhi',\n",
       "       'Bilekahalli, Bangalore', 'Nanganallur, Chennai', 'Rohini, Delhi',\n",
       "       'Thrikkakara, Ernakulam', 'Manapakkam, Chennai',\n",
       "       'Bellandur, Bangalore', 'Ameerpet, Hyderabad',\n",
       "       'Thiruvallom, Thiruvananthapuram', 'R.S. Puram, Coimbatore',\n",
       "       'Kumarapuram, Thiruvananthapuram', 'Palam Colony, Delhi',\n",
       "       'Manali, Chennai', 'Valasaravakkam, Chennai',\n",
       "       'Barkatpura, Hyderabad', 'Singanallur, Coimbatore',\n",
       "       'Mulund, Mumbai', 'Dadar East, Mumbai', 'Borabanda, Hyderabad',\n",
       "       'Model Town 3, Delhi', 'Ulsoor, Bangalore',\n",
       "       'Bhayandar West, Mumbai', 'Hari Nagar, Delhi',\n",
       "       'Horamavu, Bangalore', 'Santacruz East, Mumbai',\n",
       "       'OMR Road, Chennai', 'Kammana Halli, Bangalore',\n",
       "       'Tilak Nagar, Delhi', 'Panathur, Bangalore',\n",
       "       'Rajarajeshwarinagar, Bangalore', 'Paravur, Ernakulam',\n",
       "       'Preet Vihar, Delhi', 'Chembur East, Mumbai', 'Jakkur, Bangalore',\n",
       "       'Vanasthalipuram, Hyderabad', 'Mandaveli, Chennai',\n",
       "       'Kumara Park West, Bangalore', 'Domlur, Bangalore',\n",
       "       'Jeevanbhimanagar, Bangalore', 'Santacruz West, Mumbai',\n",
       "       'Shankar Vihar, Delhi', 'Jogeshwari East, Mumbai',\n",
       "       'Kasavanahalli, Bangalore', 'Ambalamukku, Thiruvananthapuram',\n",
       "       'Jhilmil Colony, Delhi', 'Dwarka Sector 7, Delhi',\n",
       "       'Tatabad, Coimbatore', 'Marine Lines, Mumbai',\n",
       "       'Tolichowki, Hyderabad', 'Sundarapuram, Coimbatore',\n",
       "       'Kothanur, Bangalore', 'Chinmaya Nagar, Chennai',\n",
       "       'Vasant Vihar, Delhi', 'Mehdipatnam, Hyderabad',\n",
       "       'Kadugodi, Bangalore', 'Ganapathy, Coimbatore',\n",
       "       'SR Nagar, Hyderabad', 'Perambur, Chennai', 'Opera House, Mumbai',\n",
       "       'Selvapuram, Coimbatore', 'Karkardooma, Delhi',\n",
       "       'Alwarthirunagar, Chennai', 'KR Puram, Bangalore',\n",
       "       'Ramesh Nagar, Delhi', 'Malakpet, Hyderabad',\n",
       "       'Tondiarpet, Chennai', 'Vikrampuri Colony, Hyderabad',\n",
       "       'Besant Nagar, Chennai', 'Vasant Kunj, Delhi',\n",
       "       'Banaswadi, Bangalore', 'BTM Layout, Bangalore',\n",
       "       'Medavakkam, Chennai', 'Vileparle West, Mumbai',\n",
       "       'Sahakaranagar, Bangalore', 'LB Nagar, Hyderabad',\n",
       "       'Punjagutta, Hyderabad', 'Yamuna Vihar, Delhi',\n",
       "       'Marathahalli, Bangalore', 'JP Nagar 2 Phase, Bangalore',\n",
       "       'Rani Bagh, Delhi', 'Jayamahal, Bangalore', 'Nagpada, Mumbai',\n",
       "       'Kundalahalli, Bangalore', 'Kailash Colony, Delhi',\n",
       "       'Pandav Nagar, Delhi', 'Karkhana, Hyderabad',\n",
       "       'West Mambalam, Chennai', 'Aminjikarai, Chennai',\n",
       "       'Madipakkam, Chennai', 'Charkop, Mumbai', 'Adarsh Nagar, Delhi',\n",
       "       'Dadar, Mumbai', 'Kaggadasapura, Bangalore', 'Matunga, Mumbai',\n",
       "       'Sun city, Hyderabad', 'Mahadevapura, Bangalore',\n",
       "       'Kalady, Ernakulam', 'Anna Nagar West, Chennai',\n",
       "       'Mayur Vihar Ph-II, Delhi', 'Tis Hazari, Delhi',\n",
       "       'Vennala, Ernakulam', 'Mira Road, Mumbai', 'Alwal, Hyderabad',\n",
       "       'Trimulgherry, Hyderabad', 'Raja Annamalai Puram, Chennai',\n",
       "       'JP Nagar 7 Phase, Bangalore', 'Old Bowenpally, Hyderabad',\n",
       "       'Santosh Nagar, Hyderabad', 'Hope College, Coimbatore',\n",
       "       'Mulund East, Mumbai', 'Mount Road, Chennai',\n",
       "       'Patel Nagar West, Delhi', 'Jayanagar 4 Block, Bangalore',\n",
       "       'West Marredpally, Hyderabad', 'Jagriti Enclave, Delhi',\n",
       "       'Sarita Vihar, Delhi', 'Rajendra Nagar, Hyderabad',\n",
       "       'Thudiyalur, Coimbatore', 'Bhayandar East, Mumbai',\n",
       "       'Narayanguda, Hyderabad', 'Kothapet, Hyderabad',\n",
       "       'KK Nagar, Chennai', 'Tripunithura, Ernakulam',\n",
       "       'Model Town, Delhi', 'Suchitra Circle, Hyderabad',\n",
       "       'Pusa Road, Delhi', 'Vijaynagar Colony, Hyderabad',\n",
       "       'Alandur, Chennai', 'Cuffe Parade, Mumbai', 'Kalkaji, Delhi',\n",
       "       'Saibaba Colony, Coimbatore', 'Kattakada, Thiruvananthapuram',\n",
       "       'Jogeshwari West, Mumbai', 'Erragadda, Hyderabad',\n",
       "       'Tilak Nagar, Hyderabad', 'Edapally, Ernakulam',\n",
       "       'Patparganj, Delhi', 'Sainikpuri, Hyderabad',\n",
       "       'Nanjundapuram, Coimbatore', 'Nizampet, Hyderabad',\n",
       "       'Kolathur, Chennai', 'Chamarajpet, Bangalore',\n",
       "       'Kala Ghoda, Mumbai', 'Padmarao Nagar, Hyderabad',\n",
       "       'Uppal, Hyderabad', 'Guduvanchery, Chennai',\n",
       "       'Satya Niketan, Delhi', 'Chanda Nagar, Hyderabad',\n",
       "       'Sowripalayam, Coimbatore', 'Vikhroli West, Mumbai',\n",
       "       'Rajouri Garden, Delhi', 'Alaknanda, Delhi',\n",
       "       'Millers Road, Bangalore', 'Kandanchavadi, Chennai',\n",
       "       'Vigyan Vihar, Delhi', 'Bandra East, Mumbai',\n",
       "       'Vilankurichi, Coimbatore', 'Malad East, Mumbai',\n",
       "       'Prabhadevi, Mumbai', 'Ulloor, Thiruvananthapuram',\n",
       "       'Rajakilpakkam, Chennai', 'Greater Kailash, Delhi',\n",
       "       'Madinaguda, Hyderabad', 'Borivali East, Mumbai', 'Juhu, Mumbai',\n",
       "       'Mugalivakkam, Chennai', 'Hebbal, Bangalore', 'Kirti Nagar, Delhi',\n",
       "       'Balaramapuram, Thiruvananthapuram', 'Bhandup East, Mumbai',\n",
       "       'VV Puram, Bangalore', 'Kilpauk, Chennai', 'Jacob Circle, Mumbai',\n",
       "       'Singasandra, Bangalore', 'Khairatabad, Hyderabad',\n",
       "       'Coimbatore Aerodrome, Coimbatore', 'J.C Nagar, Bangalore',\n",
       "       'Naraina Vihar, Delhi', 'Virugambakkam, Chennai',\n",
       "       'RK Puram, Delhi', 'Banashankari 1st Stage, Bangalore',\n",
       "       'Lajpat Nagar 4, Delhi', 'Jayanagar 5 Block, Bangalore',\n",
       "       'Kalyanpuri, Hyderabad', 'Tambaram, Chennai', 'Laxmi Nagar, Delhi',\n",
       "       'Anand Vihar, Delhi', 'Charni Road, Mumbai',\n",
       "       'Patel Nagar East, Delhi', 'Jayanagar 9 Block, Bangalore',\n",
       "       'Ecil, Hyderabad', 'Ramamurthy Nagar, Bangalore',\n",
       "       'Raj Nagar - 2, Delhi', 'Chunabhatti, Mumbai',\n",
       "       'Vikhroli East, Mumbai', 'Shakarpur, Delhi', 'Shahdara, Delhi',\n",
       "       'Govandi, Mumbai', 'Mira Bhayandar, Mumbai',\n",
       "       'Doddanekundi, Bangalore', 'Madhu Vihar, Delhi', 'Guindy, Chennai',\n",
       "       'Palarivattom, Ernakulam', 'Charminar, Hyderabad',\n",
       "       'Old Airport Road, Bangalore', 'Sarjapur Road, Bangalore',\n",
       "       'Okhla, Delhi', 'Baghlingampally, Hyderabad', 'Trombay, Mumbai',\n",
       "       'HRBR Layout, Bangalore', 'Fort, Mumbai', 'Shastri Nagar, Delhi',\n",
       "       'Red Hills, Chennai', 'New BEL Road, Bangalore',\n",
       "       'Park Town, Chennai', 'Frazer Town, Bangalore',\n",
       "       'Falaknuma, Hyderabad', 'Rohini Sector 7, Delhi',\n",
       "       'East Of Kailash, Delhi', 'Chintadripet, Chennai',\n",
       "       'Tagore Garden, Delhi', 'Tri Nagar, Delhi',\n",
       "       'Muttada, Thiruvananthapuram', 'Munnekollal, Bangalore',\n",
       "       'TV Museum, Thiruvananthapuram', 'Shivalik, Delhi',\n",
       "       'Neb Sarai, Delhi', 'Mahalakshmi Layout, Bangalore',\n",
       "       'Mankhurd, Mumbai', 'Kamla Nagar, Delhi',\n",
       "       'Saravanampatti, Coimbatore', 'Selaiyur, Chennai',\n",
       "       'Saligramam, Chennai', 'Thirumullaivoyal, Chennai',\n",
       "       'Teynampet, Chennai', 'Kochi, Ernakulam',\n",
       "       'Vidyaranyapura, Bangalore', 'Mogappair, Chennai',\n",
       "       'Mazgaon, Mumbai', 'Shivaji Nagar, Bangalore', 'Jangpura, Delhi',\n",
       "       'Kaudiar Square, Thiruvananthapuram', 'Arumbakkam, Chennai',\n",
       "       'Cherai, Ernakulam', 'Mira-Bhayandar Road, Mumbai',\n",
       "       'Ram Nagar, Delhi', 'Parel, Mumbai', 'Thanisandra, Bangalore',\n",
       "       'Pragathi Nagar, Hyderabad', 'Karamana, Thiruvananthapuram',\n",
       "       'AECS Layout, Bangalore', 'Nizamuddin East, Delhi',\n",
       "       'Ramanathapuram, Coimbatore', 'Anna Nagar, Chennai',\n",
       "       'Shenoy Nagar, Chennai', 'Siddhapudur, Coimbatore',\n",
       "       'Keshav Puram, Delhi', 'Edakochi, Ernakulam',\n",
       "       'Nagawara, Bangalore', 'Chintal, Hyderabad',\n",
       "       'Malviya Nagar, Delhi', 'Karwan, Hyderabad',\n",
       "       'Vazhakulam, Ernakulam', 'PMG Jn, Thiruvananthapuram',\n",
       "       'Dwarka Sector 6, Delhi', 'Viveknagar, Bangalore',\n",
       "       'Balapur, Hyderabad', 'Banashankari 2nd Stage, Bangalore',\n",
       "       'Azadpur, Delhi', 'Moti Nagar, Delhi', 'Sakinaka, Mumbai',\n",
       "       'Thoppumpady, Ernakulam', 'Sanath Nagar, Hyderabad',\n",
       "       'Royapettah, Chennai', 'Koramangala 5 Block, Bangalore',\n",
       "       'Kanjurmarg, Mumbai', 'Ernakulam College, Ernakulam',\n",
       "       'Urapakkam, Chennai', 'Coimbatore Ukkadam, Coimbatore',\n",
       "       'Sreekaryam, Thiruvananthapuram', 'Ernakulam North, Ernakulam',\n",
       "       'Sultanpur, Delhi', 'Banerji Road, Ernakulam',\n",
       "       'Balkampet, Hyderabad', 'Kavundampalayam, Coimbatore',\n",
       "       'Kanchanbagh, Hyderabad', 'Patel Nagar, Delhi', 'Kilokri, Delhi',\n",
       "       'Hoodi, Bangalore', 'New Seemapuri, Delhi',\n",
       "       'Seshadripuram, Bangalore', 'Vijaynagar, Delhi',\n",
       "       'Bowenpally, Hyderabad', 'Ondipudur, Coimbatore',\n",
       "       'Triplicane, Chennai', 'Richmond Town, Bangalore',\n",
       "       'New Rajendra Nagar, Delhi', 'Jahangirpuri, Delhi',\n",
       "       'Vivek Vihar, Delhi', 'Malleshpalya, Bangalore',\n",
       "       'Pezhakkappilly, Ernakulam', 'Lingampally, Hyderabad',\n",
       "       'Jamia Nagar, Delhi', 'Begum Bazar, Hyderabad',\n",
       "       'Lower Parel, Mumbai', 'ECR Road, Chennai', 'Nangloi, Delhi',\n",
       "       'Chintalmet, Hyderabad', 'West Of Chord Road, Bangalore',\n",
       "       'SV Road, Mumbai', 'JP Nagar 5 Phase, Bangalore',\n",
       "       'Sanjay Nagar, Bangalore', 'Panampilly Nagar, Ernakulam',\n",
       "       'Dharavi, Mumbai', 'Abbigere, Bangalore',\n",
       "       'Manacaud, Thiruvananthapuram', 'Poonamalle, Chennai',\n",
       "       'Najafgarh, Delhi', 'Uttarahalli, Bangalore', 'Sembakkam, Chennai',\n",
       "       'Tarnaka, Hyderabad', 'Nandanam, Chennai', 'Saidapet, Chennai',\n",
       "       'Choolaimedu, Chennai', 'Perungalathur, Chennai',\n",
       "       'Gulabi Bagh, Delhi', 'Jasola, Delhi',\n",
       "       'JP Nagar 3 Phase, Bangalore', 'Uppilipalayam, Coimbatore',\n",
       "       'Sadashivanagar, Bangalore', 'Rohini Sector 24, Delhi',\n",
       "       'Muvattupuzha, Ernakulam', 'Khan Market, Delhi',\n",
       "       'Abids, Hyderabad', 'Geeta Colony, Delhi', 'Madandapuram, Chennai',\n",
       "       'Dwarka Sector 22, Delhi', 'Grant Road, Mumbai',\n",
       "       'Jeedimetla, Hyderabad', 'Tambaram East, Chennai',\n",
       "       'Kothaguda, Hyderabad', 'Hauz Khas, Delhi', 'Habsiguda, Hyderabad',\n",
       "       'Breach Candy, Mumbai', 'Vidyanagar, Bangalore',\n",
       "       'Begur, Bangalore', 'Dahisar, Mumbai', 'Pachalam, Ernakulam',\n",
       "       'Perumbavoor, Ernakulam', 'Avadi, Chennai',\n",
       "       'Coimbatore Central, Coimbatore', 'Lokhandwala, Mumbai',\n",
       "       'Tiruvottiyur, Chennai', 'Ullal Upanagara, Bangalore',\n",
       "       'Perurkada, Thiruvananthapuram', 'Ashok Vihar Phase 3, Delhi',\n",
       "       'Walkeshwar, Mumbai', 'Saidabad, Hyderabad',\n",
       "       'Koramangala 6 Block, Bangalore', 'New Ashok Nagar, Delhi',\n",
       "       'Peddar Road, Mumbai', 'Aya Nagar, Delhi', 'JP Nagar, Bangalore',\n",
       "       'Sasthamangalam, Thiruvananthapuram', 'Yakutpura, Hyderabad',\n",
       "       'Sampangiramnagar, Bangalore', 'Kasturi nagar, Bangalore',\n",
       "       'Pallavaram, Chennai', 'Moti Bagh, Delhi',\n",
       "       'Mukherjee Nagar, Delhi', 'Byculla, Mumbai', 'Peeragarhi, Delhi',\n",
       "       'Amberpet, Hyderabad', 'JP Nagar 6 Phase, Bangalore',\n",
       "       'Sholinganallur, Chennai', 'Langford Road, Bangalore',\n",
       "       'Cumballa Hill, Mumbai', 'Colaba, Mumbai',\n",
       "       'Qutab Institutional Area, Delhi', 'Dommasandra, Bangalore',\n",
       "       'Malabar Hill, Mumbai', 'Koramangala 8 Block, Bangalore',\n",
       "       'Rohini Sector 22, Delhi', 'Lothkunta, Hyderabad',\n",
       "       'HAL 2nd Stage, Bangalore', 'Jayanagar 7 Block, Bangalore',\n",
       "       'Vadasserikonam, Thiruvananthapuram',\n",
       "       'East Marredpally, Hyderabad', 'Kelambakkam, Chennai',\n",
       "       'Chinchpokli, Mumbai', 'Delhi Cantt, Delhi',\n",
       "       'Padmanabhanagar, Bangalore', 'Sheikh Sarai, Delhi',\n",
       "       'Washermenpet, Chennai', 'Konanakunte, Bangalore',\n",
       "       'Ashok Vihar Phase 1, Delhi', 'Thirumala, Thiruvananthapuram',\n",
       "       'Sarjapura, Bangalore', 'JP Nagar 1 Phase, Bangalore',\n",
       "       'JB Nagar, Mumbai', 'Paruthippara, Thiruvananthapuram',\n",
       "       'Vikhroli, Mumbai', 'JP Nagar 8 Phase, Bangalore',\n",
       "       'GTB Nagar, Delhi', 'Vidyanagar, Hyderabad',\n",
       "       'Masab Tank, Hyderabad', 'Hafeezpet, Hyderabad',\n",
       "       'Jeevan Park, Delhi', 'Dwarka Sector 5, Delhi',\n",
       "       'Civil Lines, Delhi', 'Anand Niketan, Delhi',\n",
       "       'Pappanaickenpalayam, Coimbatore', 'Koovappady, Ernakulam',\n",
       "       'Dwarka, Sector 5, Delhi', 'Srirampuram, Bangalore',\n",
       "       'Korattur, Chennai', 'Pappanaickenpudur, Coimbatore',\n",
       "       'Gandhi Nagar, Delhi', 'Vignan Nagar, Bangalore',\n",
       "       'Ganganagar, Bangalore', 'Elamakkara, Ernakulam',\n",
       "       'Boduppal, Hyderabad', 'Tilak Nagar, Mumbai', 'Khetwadi, Mumbai',\n",
       "       'Kengeri, Bangalore', 'Sion East, Mumbai',\n",
       "       'Rohini Sector 6, Delhi', 'Kazhakuttam, Thiruvananthapuram',\n",
       "       'Goregaon, Mumbai', 'Peroor, Thiruvananthapuram',\n",
       "       'New Thippasandra, Bangalore', 'Jalahalli, Bangalore',\n",
       "       'King Koti, Hyderabad', 'Kallambalam, Thiruvananthapuram',\n",
       "       'Dwarka Sector 13, Delhi', 'Residency Road, Bangalore',\n",
       "       'Radhakrishnan Salai, Chennai', 'Hulimavu, Bangalore',\n",
       "       'Dasarahalli, Bangalore', 'Vileparle, Mumbai', 'Delhi, Delhi',\n",
       "       'Kachiguda, Hyderabad', 'Venkitapuram, Coimbatore',\n",
       "       'Kuniamuthur, Coimbatore', 'TV Chalai, Thiruvananthapuram',\n",
       "       'Serilingampally, Hyderabad', 'RMV 2nd Stage, Bangalore',\n",
       "       'Champapet, Hyderabad', 'Surya Niketan, Delhi',\n",
       "       'Kovilpalayam, Coimbatore', 'Nampally, Hyderabad',\n",
       "       'Siddapura, Bangalore', 'Neredmet, Hyderabad',\n",
       "       'Vellakinar, Coimbatore', 'Egmore, Chennai',\n",
       "       'Katwaria Sarai, Delhi', 'Navalur, Chennai', 'Mehrauli, Delhi',\n",
       "       'HBR Layout, Bangalore', 'Subhash Nagar, Delhi',\n",
       "       'Mallepally, Hyderabad', 'Eroor South, Ernakulam',\n",
       "       'Lajpat Nagar III, Delhi', 'Kodungaiyur, Chennai',\n",
       "       'Kuppakonanpudur, Coimbatore', 'Paradise, Hyderabad',\n",
       "       'Rohini Sector 4, Delhi', 'Koramangala 4 Block, Bangalore',\n",
       "       'Dwarka Sector 3, Delhi', 'Durga Puri, Delhi',\n",
       "       'Kalamassery, Ernakulam', 'Gulmohar Park, Delhi',\n",
       "       'Adugodi, Bangalore', 'Moti Nagar, Hyderabad',\n",
       "       'Nallagandla, Hyderabad', 'Gowrivakkam, Chennai',\n",
       "       'Periyar Nagar, Chennai', 'Austin Town, Bangalore',\n",
       "       'Afzalgunj, Hyderabad', 'Cotton Hill, Thiruvananthapuram',\n",
       "       'Goldwins, Coimbatore', 'Kuravankonam, Thiruvananthapuram',\n",
       "       'Rohini Sector 3, Delhi', 'Lado Sarai, Delhi',\n",
       "       'Koramangala 2 Block, Bangalore', 'Madangir, Delhi',\n",
       "       'Marine Drive, Mumbai', 'Marine Drive, Ernakulam',\n",
       "       'Angamaly, Ernakulam', 'Neelankarai, Chennai',\n",
       "       'Churchgate, Mumbai', 'Kalapatti, Coimbatore', 'Nand Nagri, Delhi',\n",
       "       'Kandivali, Mumbai', 'Madanpura, Mumbai', 'Hegde Nagar, Bangalore',\n",
       "       'Domalguda, Hyderabad', 'Mumbai Central, Mumbai',\n",
       "       'Vasanthnagar, Bangalore', 'Kapashera, Delhi',\n",
       "       'August Kranti Marg, Delhi', 'Krishna Nagar, Hyderabad',\n",
       "       'Lal baug, Mumbai', 'Perumathura, Thiruvananthapuram',\n",
       "       'Molarband, Delhi', 'Piravom, Ernakulam', 'Neeti Bagh, Delhi',\n",
       "       'Kishanbagh, Hyderabad', 'Shantinagar, Bangalore',\n",
       "       'Poojapura, Thiruvananthapuram', 'Rathinapuri, Coimbatore',\n",
       "       'Model Town 1, Delhi', 'Koothattukulam, Ernakulam',\n",
       "       'Anand Lok, Delhi', 'Pappanaickenpalayam West, Coimbatore',\n",
       "       'Subzi Mandi, Delhi', 'Sion, Mumbai', 'Nagole, Hyderabad',\n",
       "       'TVM Pettah, Thiruvananthapuram', 'Changampuzha Nagar, Ernakulam',\n",
       "       'Puzhal, Chennai', 'Vanchiyur, Thiruvananthapuram',\n",
       "       'Sukh Vihar, Delhi', 'Kovalam, Thiruvananthapuram',\n",
       "       'Swasthya Vihar, Delhi', 'Tardeo, Mumbai', 'Vishnu Garden, Delhi',\n",
       "       'Jayanagar 1 Block, Bangalore', 'Sion Koliwada, Mumbai',\n",
       "       'Marol, Mumbai', 'Kalkere, Bangalore', 'Sindhi Colony, Hyderabad',\n",
       "       'Silampur, Delhi', 'Varthur, Bangalore', 'Model Town 2, Delhi',\n",
       "       'Surajmal Vihar, Delhi', 'Chandni Chowk, Delhi',\n",
       "       'Veerakeralam, Coimbatore', 'T Dasarahalli, Bangalore',\n",
       "       'Kaggalipura, Bangalore', 'Thonnakkal, Thiruvananthapuram',\n",
       "       'Manjapra, Ernakulam', 'Yellareddyguda, Hyderabad',\n",
       "       'Kovilambakkam, Chennai', 'Broadway, Chennai',\n",
       "       'Podanur, Coimbatore', 'Kompally, Hyderabad',\n",
       "       'Kottivakkam, Chennai', 'Mansarover Garden, Delhi',\n",
       "       'Mandapeshwar, Mumbai', 'Rohini Sector 15, Delhi',\n",
       "       'Vaduthala, Ernakulam', 'Hebbal Kempapura, Bangalore',\n",
       "       'Sithalapakkam, Chennai', 'MKB Nagar, Chennai',\n",
       "       'MG Road, Hyderabad', 'Darya Ganj, Delhi',\n",
       "       'Venjaramoodu, Thiruvananthapuram', 'Kotturpuram, Chennai',\n",
       "       'Ramapuram, Chennai', 'Karmanghat, Hyderabad',\n",
       "       'Moula Ali, Hyderabad', 'Netaji Nagar, Delhi',\n",
       "       'Chandra Layout, Bangalore', 'Akshaya nagar, Bangalore',\n",
       "       'Nirman Vihar, Delhi', 'Vasant Enclave, Delhi',\n",
       "       'St Thomas Mount, Chennai', 'Royapuram, Chennai',\n",
       "       'Abhiramapuram, Chennai', 'Inder Puri, Delhi',\n",
       "       'Edayarpalayam, Coimbatore', 'Deoli, Delhi',\n",
       "       'Mulanthuruthy, Ernakulam', 'Sukhdev Vihar, Delhi', 'e',\n",
       "       'Kothamangalam, Ernakulam', 'Harlur, Bangalore',\n",
       "       'Bolarum, Hyderabad', 'Richards Town, Bangalore', 'Narela, Delhi',\n",
       "       'Nehru Place, Delhi', 'Ramanthapur, Hyderabad',\n",
       "       'Bali Nagar, Delhi', 'Palavakkam, Chennai', 'Balanagar, Hyderabad',\n",
       "       'Hyderguda, Hyderabad', 'Cherannagar, Coimbatore',\n",
       "       'Rohini Sector 11, Delhi', 'Dwarka Sector 4, Delhi',\n",
       "       'Palluruthy, Ernakulam', 'Vizhinjam, Thiruvananthapuram',\n",
       "       'Santacruz, Mumbai', 'Ganesh Nagar, Delhi',\n",
       "       'Vengal Rao Nagar, Hyderabad', 'Deonar, Mumbai',\n",
       "       'Edapally North, Ernakulam', 'Red Hills, Hyderabad',\n",
       "       'IDA Jeedimetla, Hyderabad', 'Mettupalayam, Coimbatore',\n",
       "       'Hayathnagar, Hyderabad', 'Kakkanad West, Ernakulam',\n",
       "       'Khajaguda, Hyderabad', 'Rohini Sector 5, Delhi',\n",
       "       'Saraswati Vihar, Delhi', 'Kingsway Camp, Delhi',\n",
       "       'Ramamangalam, Ernakulam', 'Indirapuram, Delhi',\n",
       "       'Parassala, Thiruvananthapuram', 'Connaught Place, Delhi',\n",
       "       'Gottigerre, Bangalore', 'Shivrampally, Hyderabad',\n",
       "       'Vyasarpadi, Chennai', 'Kovaipudur, Coimbatore',\n",
       "       'Vallakkadavoo, Thiruvananthapuram', 'Kattupakkam, Chennai',\n",
       "       'Nellimoodu, Thiruvananthapuram', 'Pondy Bazaar, Chennai',\n",
       "       'Prashant Vihar, Delhi', 'Chullickal, Ernakulam',\n",
       "       'Murugeshpalya, Bangalore', 'Khanpur, Delhi',\n",
       "       'Madiwala, Bangalore', 'Dwarka Sector 23, Delhi',\n",
       "       'Badarpur, Delhi', 'Peyad, Thiruvananthapuram',\n",
       "       'Gandhi Nagar, Chennai', 'Uday Park, Delhi',\n",
       "       'Bandlaguda, Hyderabad', 'Karukappilli, Ernakulam',\n",
       "       'Rana Pratap Bagh, Delhi', 'Kochi M.G.Road, Ernakulam',\n",
       "       'Gopalapuram, Chennai', 'Puthenvelikkara, Ernakulam',\n",
       "       'Sowcarpet, Chennai', 'Chitlapakkam, Chennai',\n",
       "       'Malumichampatti, Coimbatore', 'Rohini Sector 8, Delhi',\n",
       "       'Rohini Sector 2, Delhi', 'Ram Nagar, Hyderabad',\n",
       "       'Dwarka Sector 10, Delhi', 'Agaram, Chennai',\n",
       "       'Poovachal, Thiruvananthapuram', 'Shanti Niketan, Delhi',\n",
       "       'Pothencode, Thiruvananthapuram', 'Dickenson Road, Bangalore',\n",
       "       'RTC X Road, Hyderabad', 'Film Nagar, Hyderabad',\n",
       "       'Lodhi Colony, Delhi', 'SG Palya (Kormangla), Bangalore',\n",
       "       'Palkulangara, Thiruvananthapuram', 'Mahalingapuram, Chennai',\n",
       "       'Matunga West, Mumbai', 'Nettoor, Ernakulam', 'Rani Khera, Delhi',\n",
       "       'Beeramguda, Hyderabad', 'Ramachandrapuram, Hyderabad',\n",
       "       'Neyyattinkara Town, Thiruvananthapuram', 'Gorai, Mumbai',\n",
       "       'Jayanagar 3 Block, Bangalore', 'Shakti Nagar, Delhi',\n",
       "       'Sangam Vihar, Delhi', 'Shakurpur, Delhi',\n",
       "       'Chaitanyapuri, Hyderabad', 'TVM Fort, Thiruvananthapuram',\n",
       "       'JP Nagar 4 Phase, Bangalore', 'Nayandahalli, Bangalore',\n",
       "       'Valiathura, Thiruvananthapuram', 'Kowdiar, Thiruvananthapuram',\n",
       "       'Cunningham Road, Bangalore', 'Hennur, Bangalore',\n",
       "       'Peenya, Bangalore', 'Pattimattam, Ernakulam', 'HAL, Bangalore'],\n",
       "      dtype=object)"
      ]
     },
     "execution_count": 108,
     "metadata": {},
     "output_type": "execute_result"
    }
   ],
   "source": [
    "df['Place'].unique()"
   ]
  },
  {
   "cell_type": "code",
   "execution_count": 109,
   "metadata": {},
   "outputs": [
    {
     "data": {
      "text/plain": [
       "array(['Homeopath', 'Ayurveda', 'ENT Specialist', 'Dentist',\n",
       "       'General Medicine', 'Dermatologists'], dtype=object)"
      ]
     },
     "execution_count": 109,
     "metadata": {},
     "output_type": "execute_result"
    }
   ],
   "source": [
    "df['Profile'].unique()"
   ]
  },
  {
   "cell_type": "markdown",
   "metadata": {},
   "source": [
    "Here All the values of place are unique So dropping this column too."
   ]
  },
  {
   "cell_type": "code",
   "execution_count": 110,
   "metadata": {},
   "outputs": [],
   "source": [
    "df.drop('Place',axis=1,inplace=True)"
   ]
  },
  {
   "cell_type": "markdown",
   "metadata": {},
   "source": [
    "# Label Encoding Columns-"
   ]
  },
  {
   "cell_type": "code",
   "execution_count": 111,
   "metadata": {},
   "outputs": [],
   "source": [
    "from sklearn.preprocessing import LabelEncoder,OneHotEncoder"
   ]
  },
  {
   "cell_type": "code",
   "execution_count": 112,
   "metadata": {},
   "outputs": [],
   "source": [
    "from sklearn import preprocessing\n",
    "for i in df.columns:\n",
    "    if(len(df[i].value_counts()) == 6):#Profile column\n",
    "        le_prof = preprocessing.LabelEncoder()\n",
    "        df[i] = le_prof.fit_transform(df[i])"
   ]
  },
  {
   "cell_type": "code",
   "execution_count": 113,
   "metadata": {},
   "outputs": [
    {
     "data": {
      "text/plain": [
       "array([ 401,   73, 1135, ...,  596,  943,  243])"
      ]
     },
     "execution_count": 113,
     "metadata": {},
     "output_type": "execute_result"
    }
   ],
   "source": [
    "le=LabelEncoder()\n",
    "df_qual=le.fit_transform(df['Qualification'])\n",
    "df_qual"
   ]
  },
  {
   "cell_type": "code",
   "execution_count": 114,
   "metadata": {},
   "outputs": [],
   "source": [
    "df['Qualification']=df_qual"
   ]
  },
  {
   "cell_type": "code",
   "execution_count": 115,
   "metadata": {},
   "outputs": [
    {
     "data": {
      "text/plain": [
       "array([16,  3, 63, ..., 35,  6,  8])"
      ]
     },
     "execution_count": 115,
     "metadata": {},
     "output_type": "execute_result"
    }
   ],
   "source": [
    "le=LabelEncoder()\n",
    "df_exp=le.fit_transform(df['Experience'])\n",
    "df_exp"
   ]
  },
  {
   "cell_type": "code",
   "execution_count": 116,
   "metadata": {},
   "outputs": [],
   "source": [
    "df['Experience']=df_exp"
   ]
  },
  {
   "cell_type": "code",
   "execution_count": 117,
   "metadata": {},
   "outputs": [
    {
     "data": {
      "text/html": [
       "<div>\n",
       "<style scoped>\n",
       "    .dataframe tbody tr th:only-of-type {\n",
       "        vertical-align: middle;\n",
       "    }\n",
       "\n",
       "    .dataframe tbody tr th {\n",
       "        vertical-align: top;\n",
       "    }\n",
       "\n",
       "    .dataframe thead th {\n",
       "        text-align: right;\n",
       "    }\n",
       "</style>\n",
       "<table border=\"1\" class=\"dataframe\">\n",
       "  <thead>\n",
       "    <tr style=\"text-align: right;\">\n",
       "      <th></th>\n",
       "      <th>Qualification</th>\n",
       "      <th>Experience</th>\n",
       "      <th>Profile</th>\n",
       "      <th>Fees</th>\n",
       "    </tr>\n",
       "  </thead>\n",
       "  <tbody>\n",
       "    <tr>\n",
       "      <th>0</th>\n",
       "      <td>401</td>\n",
       "      <td>16</td>\n",
       "      <td>5</td>\n",
       "      <td>100</td>\n",
       "    </tr>\n",
       "    <tr>\n",
       "      <th>1</th>\n",
       "      <td>73</td>\n",
       "      <td>3</td>\n",
       "      <td>0</td>\n",
       "      <td>350</td>\n",
       "    </tr>\n",
       "    <tr>\n",
       "      <th>2</th>\n",
       "      <td>1135</td>\n",
       "      <td>63</td>\n",
       "      <td>3</td>\n",
       "      <td>300</td>\n",
       "    </tr>\n",
       "    <tr>\n",
       "      <th>3</th>\n",
       "      <td>464</td>\n",
       "      <td>3</td>\n",
       "      <td>0</td>\n",
       "      <td>250</td>\n",
       "    </tr>\n",
       "    <tr>\n",
       "      <th>4</th>\n",
       "      <td>10</td>\n",
       "      <td>12</td>\n",
       "      <td>0</td>\n",
       "      <td>250</td>\n",
       "    </tr>\n",
       "  </tbody>\n",
       "</table>\n",
       "</div>"
      ],
      "text/plain": [
       "   Qualification  Experience  Profile  Fees\n",
       "0            401          16        5   100\n",
       "1             73           3        0   350\n",
       "2           1135          63        3   300\n",
       "3            464           3        0   250\n",
       "4             10          12        0   250"
      ]
     },
     "execution_count": 117,
     "metadata": {},
     "output_type": "execute_result"
    }
   ],
   "source": [
    "df.head()"
   ]
  },
  {
   "cell_type": "markdown",
   "metadata": {},
   "source": [
    "# Visualization:-"
   ]
  },
  {
   "cell_type": "code",
   "execution_count": 118,
   "metadata": {},
   "outputs": [
    {
     "data": {
      "image/png": "[encoded data removed]",
      "text/plain": [
       "<Figure size 1440x576 with 1 Axes>"
      ]
     },
     "metadata": {
      "needs_background": "light"
     },
     "output_type": "display_data"
    },
    {
     "data": {
      "image/png": "[encoded data removed]",
      "text/plain": [
       "<Figure size 1440x576 with 1 Axes>"
      ]
     },
     "metadata": {
      "needs_background": "light"
     },
     "output_type": "display_data"
    },
    {
     "data": {
      "image/png": "[encoded data removed]",
      "text/plain": [
       "<Figure size 1440x576 with 1 Axes>"
      ]
     },
     "metadata": {
      "needs_background": "light"
     },
     "output_type": "display_data"
    },
    {
     "data": {
      "image/png": "[encoded data removed]",
      "text/plain": [
       "<Figure size 1440x576 with 1 Axes>"
      ]
     },
     "metadata": {
      "needs_background": "light"
     },
     "output_type": "display_data"
    }
   ],
   "source": [
    "for i in df.columns:\n",
    "    plt.subplots(figsize=(20,8))\n",
    "    sns.countplot(i,data=df)\n",
    "    plt.show()"
   ]
  },
  {
   "cell_type": "code",
   "execution_count": 119,
   "metadata": {},
   "outputs": [
    {
     "data": {
      "image/png": "[encoded data removed]",
      "text/plain": [
       "<Figure size 432x288 with 1 Axes>"
      ]
     },
     "metadata": {
      "needs_background": "light"
     },
     "output_type": "display_data"
    },
    {
     "data": {
      "image/png": "[encoded data removed]",
      "text/plain": [
       "<Figure size 432x288 with 1 Axes>"
      ]
     },
     "metadata": {
      "needs_background": "light"
     },
     "output_type": "display_data"
    },
    {
     "data": {
      "image/png": "[encoded data removed]",
      "text/plain": [
       "<Figure size 432x288 with 1 Axes>"
      ]
     },
     "metadata": {
      "needs_background": "light"
     },
     "output_type": "display_data"
    },
    {
     "data": {
      "image/png": "[encoded data removed]",
      "text/plain": [
       "<Figure size 432x288 with 1 Axes>"
      ]
     },
     "metadata": {
      "needs_background": "light"
     },
     "output_type": "display_data"
    }
   ],
   "source": [
    "#Cheking  out the relation of features with target variables.\n",
    "for i in df.columns:\n",
    "    sns.scatterplot(x=df[i],y=df['Fees'])\n",
    "    plt.show()"
   ]
  },
  {
   "cell_type": "markdown",
   "metadata": {},
   "source": [
    "# Correlation"
   ]
  },
  {
   "cell_type": "code",
   "execution_count": 120,
   "metadata": {},
   "outputs": [
    {
     "data": {
      "text/html": [
       "<div>\n",
       "<style scoped>\n",
       "    .dataframe tbody tr th:only-of-type {\n",
       "        vertical-align: middle;\n",
       "    }\n",
       "\n",
       "    .dataframe tbody tr th {\n",
       "        vertical-align: top;\n",
       "    }\n",
       "\n",
       "    .dataframe thead th {\n",
       "        text-align: right;\n",
       "    }\n",
       "</style>\n",
       "<table border=\"1\" class=\"dataframe\">\n",
       "  <thead>\n",
       "    <tr style=\"text-align: right;\">\n",
       "      <th></th>\n",
       "      <th>Qualification</th>\n",
       "      <th>Experience</th>\n",
       "      <th>Profile</th>\n",
       "      <th>Fees</th>\n",
       "    </tr>\n",
       "  </thead>\n",
       "  <tbody>\n",
       "    <tr>\n",
       "      <th>Qualification</th>\n",
       "      <td>1.000000</td>\n",
       "      <td>0.003325</td>\n",
       "      <td>0.393123</td>\n",
       "      <td>0.263214</td>\n",
       "    </tr>\n",
       "    <tr>\n",
       "      <th>Experience</th>\n",
       "      <td>0.003325</td>\n",
       "      <td>1.000000</td>\n",
       "      <td>-0.032711</td>\n",
       "      <td>-0.048529</td>\n",
       "    </tr>\n",
       "    <tr>\n",
       "      <th>Profile</th>\n",
       "      <td>0.393123</td>\n",
       "      <td>-0.032711</td>\n",
       "      <td>1.000000</td>\n",
       "      <td>0.145226</td>\n",
       "    </tr>\n",
       "    <tr>\n",
       "      <th>Fees</th>\n",
       "      <td>0.263214</td>\n",
       "      <td>-0.048529</td>\n",
       "      <td>0.145226</td>\n",
       "      <td>1.000000</td>\n",
       "    </tr>\n",
       "  </tbody>\n",
       "</table>\n",
       "</div>"
      ],
      "text/plain": [
       "               Qualification  Experience   Profile      Fees\n",
       "Qualification       1.000000    0.003325  0.393123  0.263214\n",
       "Experience          0.003325    1.000000 -0.032711 -0.048529\n",
       "Profile             0.393123   -0.032711  1.000000  0.145226\n",
       "Fees                0.263214   -0.048529  0.145226  1.000000"
      ]
     },
     "execution_count": 120,
     "metadata": {},
     "output_type": "execute_result"
    }
   ],
   "source": [
    "df.corr()"
   ]
  },
  {
   "cell_type": "markdown",
   "metadata": {},
   "source": [
    "\"Fees\" Least correlation is with experience and highest with qualification."
   ]
  },
  {
   "cell_type": "code",
   "execution_count": 121,
   "metadata": {},
   "outputs": [
    {
     "data": {
      "text/plain": [
       "<AxesSubplot:>"
      ]
     },
     "execution_count": 121,
     "metadata": {},
     "output_type": "execute_result"
    },
    {
     "data": {
      "image/png": "[encoded data removed]",
      "text/plain": [
       "<Figure size 1080x576 with 2 Axes>"
      ]
     },
     "metadata": {
      "needs_background": "light"
     },
     "output_type": "display_data"
    }
   ],
   "source": [
    "plt.figure(figsize=(15,8))\n",
    "sns.heatmap(df.corr(),annot=True,linewidth=0.5,linecolor='black')"
   ]
  },
  {
   "cell_type": "markdown",
   "metadata": {},
   "source": [
    "# Data Cleaning"
   ]
  },
  {
   "cell_type": "markdown",
   "metadata": {},
   "source": [
    "# outlier checking"
   ]
  },
  {
   "cell_type": "code",
   "execution_count": 122,
   "metadata": {},
   "outputs": [
    {
     "data": {
      "image/png": "[encoded data removed]",
      "text/plain": [
       "<Figure size 864x1800 with 36 Axes>"
      ]
     },
     "metadata": {
      "needs_background": "light"
     },
     "output_type": "display_data"
    }
   ],
   "source": [
    "df.plot(kind='box',subplots=True,layout=(12,3),figsize=(12,25))\n",
    "plt.show()"
   ]
  },
  {
   "cell_type": "markdown",
   "metadata": {},
   "source": [
    "No as such outliers present in the datset."
   ]
  },
  {
   "cell_type": "markdown",
   "metadata": {},
   "source": [
    "# Applying zscore"
   ]
  },
  {
   "cell_type": "code",
   "execution_count": 123,
   "metadata": {},
   "outputs": [
    {
     "data": {
      "text/plain": [
       "(5961, 4)"
      ]
     },
     "execution_count": 123,
     "metadata": {},
     "output_type": "execute_result"
    }
   ],
   "source": [
    "from scipy.stats import zscore\n",
    "z=np.abs(zscore(df))\n",
    "z.shape"
   ]
  },
  {
   "cell_type": "code",
   "execution_count": 124,
   "metadata": {},
   "outputs": [
    {
     "name": "stdout",
     "output_type": "stream",
     "text": [
      "(array([ 275,  293,  987, 1314, 1631, 2165, 2252, 2393, 2428, 2522, 2623,\n",
      "       2708, 3365, 4040, 4581, 4730, 4835, 5195, 5250, 5311], dtype=int32), array([3, 3, 3, 3, 3, 3, 3, 3, 3, 3, 3, 3, 3, 3, 3, 3, 3, 3, 3, 3],\n",
      "      dtype=int32))\n"
     ]
    }
   ],
   "source": [
    "threshold=3\n",
    "print(np.where(z>3))"
   ]
  },
  {
   "cell_type": "code",
   "execution_count": 125,
   "metadata": {},
   "outputs": [
    {
     "name": "stdout",
     "output_type": "stream",
     "text": [
      "(5961, 4)\n",
      "(5941, 4)\n"
     ]
    }
   ],
   "source": [
    "df_new=df[(z<3).all(axis=1)]\n",
    "print(df.shape)\n",
    "print(df_new.shape)"
   ]
  },
  {
   "cell_type": "markdown",
   "metadata": {},
   "source": [
    "so we are not going to remove any outliers no as such present."
   ]
  },
  {
   "cell_type": "markdown",
   "metadata": {},
   "source": [
    "Now we are going to divide the feature columns and target."
   ]
  },
  {
   "cell_type": "code",
   "execution_count": 126,
   "metadata": {},
   "outputs": [],
   "source": [
    "x = df.drop(\"Fees\", axis=1)\n",
    "y = df[\"Fees\"]"
   ]
  },
  {
   "cell_type": "markdown",
   "metadata": {},
   "source": [
    "# Checking Skewness"
   ]
  },
  {
   "cell_type": "code",
   "execution_count": 127,
   "metadata": {},
   "outputs": [
    {
     "data": {
      "text/plain": [
       "Qualification    0.239720\n",
       "Experience       0.823531\n",
       "Profile          0.108803\n",
       "dtype: float64"
      ]
     },
     "execution_count": 127,
     "metadata": {},
     "output_type": "execute_result"
    }
   ],
   "source": [
    "x.skew()"
   ]
  },
  {
   "cell_type": "markdown",
   "metadata": {},
   "source": [
    "# Handling skewness"
   ]
  },
  {
   "cell_type": "code",
   "execution_count": 128,
   "metadata": {},
   "outputs": [],
   "source": [
    "#Treating the skewness using log\n",
    "import numpy as np\n",
    "for i in x.columns:\n",
    "\n",
    "    if x.skew().loc[i]>0.55:\n",
    "        x[i]=np.log1p(x[i])"
   ]
  },
  {
   "cell_type": "code",
   "execution_count": 129,
   "metadata": {},
   "outputs": [
    {
     "data": {
      "text/plain": [
       "Qualification    0.239720\n",
       "Experience      -0.362028\n",
       "Profile          0.108803\n",
       "dtype: float64"
      ]
     },
     "execution_count": 129,
     "metadata": {},
     "output_type": "execute_result"
    }
   ],
   "source": [
    "x.skew()"
   ]
  },
  {
   "cell_type": "markdown",
   "metadata": {},
   "source": [
    "# Standard Scalling"
   ]
  },
  {
   "cell_type": "code",
   "execution_count": 130,
   "metadata": {},
   "outputs": [],
   "source": [
    "from sklearn.preprocessing import StandardScaler\n",
    "sc=StandardScaler()\n",
    "k=sc.fit_transform(x)\n",
    "x=pd.DataFrame(k,columns = x.columns)"
   ]
  },
  {
   "cell_type": "code",
   "execution_count": 131,
   "metadata": {},
   "outputs": [
    {
     "data": {
      "text/html": [
       "<div>\n",
       "<style scoped>\n",
       "    .dataframe tbody tr th:only-of-type {\n",
       "        vertical-align: middle;\n",
       "    }\n",
       "\n",
       "    .dataframe tbody tr th {\n",
       "        vertical-align: top;\n",
       "    }\n",
       "\n",
       "    .dataframe thead th {\n",
       "        text-align: right;\n",
       "    }\n",
       "</style>\n",
       "<table border=\"1\" class=\"dataframe\">\n",
       "  <thead>\n",
       "    <tr style=\"text-align: right;\">\n",
       "      <th></th>\n",
       "      <th>Qualification</th>\n",
       "      <th>Experience</th>\n",
       "      <th>Profile</th>\n",
       "    </tr>\n",
       "  </thead>\n",
       "  <tbody>\n",
       "    <tr>\n",
       "      <th>0</th>\n",
       "      <td>-0.473306</td>\n",
       "      <td>0.124143</td>\n",
       "      <td>1.543016</td>\n",
       "    </tr>\n",
       "    <tr>\n",
       "      <th>1</th>\n",
       "      <td>-1.265944</td>\n",
       "      <td>-1.220603</td>\n",
       "      <td>-1.472893</td>\n",
       "    </tr>\n",
       "    <tr>\n",
       "      <th>2</th>\n",
       "      <td>1.300465</td>\n",
       "      <td>1.356201</td>\n",
       "      <td>0.336652</td>\n",
       "    </tr>\n",
       "    <tr>\n",
       "      <th>3</th>\n",
       "      <td>-0.321061</td>\n",
       "      <td>-1.220603</td>\n",
       "      <td>-1.472893</td>\n",
       "    </tr>\n",
       "    <tr>\n",
       "      <th>4</th>\n",
       "      <td>-1.418189</td>\n",
       "      <td>-0.125178</td>\n",
       "      <td>-1.472893</td>\n",
       "    </tr>\n",
       "  </tbody>\n",
       "</table>\n",
       "</div>"
      ],
      "text/plain": [
       "   Qualification  Experience   Profile\n",
       "0      -0.473306    0.124143  1.543016\n",
       "1      -1.265944   -1.220603 -1.472893\n",
       "2       1.300465    1.356201  0.336652\n",
       "3      -0.321061   -1.220603 -1.472893\n",
       "4      -1.418189   -0.125178 -1.472893"
      ]
     },
     "execution_count": 131,
     "metadata": {},
     "output_type": "execute_result"
    }
   ],
   "source": [
    "x.head()"
   ]
  },
  {
   "cell_type": "code",
   "execution_count": 132,
   "metadata": {},
   "outputs": [
    {
     "data": {
      "text/plain": [
       "((5961, 3), (5961,))"
      ]
     },
     "execution_count": 132,
     "metadata": {},
     "output_type": "execute_result"
    }
   ],
   "source": [
    "x.shape,y.shape"
   ]
  },
  {
   "cell_type": "markdown",
   "metadata": {},
   "source": [
    "# Modelling"
   ]
  },
  {
   "cell_type": "code",
   "execution_count": 133,
   "metadata": {},
   "outputs": [],
   "source": [
    "#models froms sickit learn\n",
    "from sklearn.model_selection import train_test_split,cross_val_score\n",
    "from sklearn.linear_model import LinearRegression\n",
    "from sklearn.linear_model import Lasso,Ridge\n",
    "from sklearn.neighbors import KNeighborsRegressor\n",
    "\n",
    "#ensemble technique\n",
    "from sklearn.ensemble import RandomForestRegressor\n",
    "from sklearn.ensemble import AdaBoostRegressor\n",
    "\n",
    "# Importing some metrics we can use to evaluate our model performance.... \n",
    "from sklearn.metrics import r2_score, mean_absolute_error, mean_squared_error"
   ]
  },
  {
   "cell_type": "code",
   "execution_count": 135,
   "metadata": {},
   "outputs": [
    {
     "name": "stdout",
     "output_type": "stream",
     "text": [
      "Best r2_score is 0.10240812081204809 on random state 185\n"
     ]
    }
   ],
   "source": [
    "lr=LinearRegression()\n",
    "maxr2=0\n",
    "maxrs=0\n",
    "for i in range(1,200):\n",
    "    x_train,x_test,y_train,y_test= train_test_split(x,y,test_size=.20,random_state=i)\n",
    "    lr.fit(x_train,y_train)\n",
    "    predrf=lr.predict(x_test)\n",
    "    r2=r2_score(y_test,predrf)\n",
    "    if r2>maxr2:\n",
    "        maxr2=r2\n",
    "        maxrs=i\n",
    "print('Best r2_score is',maxr2,'on random state', maxrs)"
   ]
  },
  {
   "cell_type": "code",
   "execution_count": 136,
   "metadata": {},
   "outputs": [],
   "source": [
    "#we are splitting data at random satate 185\n",
    "x_train,x_test,y_train,y_test=train_test_split(x,y,test_size=.30,random_state=185)"
   ]
  },
  {
   "cell_type": "code",
   "execution_count": 137,
   "metadata": {},
   "outputs": [
    {
     "data": {
      "text/plain": [
       "((4172, 3), (1789, 3), (4172,), (1789,))"
      ]
     },
     "execution_count": 137,
     "metadata": {},
     "output_type": "execute_result"
    }
   ],
   "source": [
    "x_train.shape,x_test.shape,y_train.shape,y_test.shape"
   ]
  },
  {
   "cell_type": "code",
   "execution_count": 138,
   "metadata": {},
   "outputs": [],
   "source": [
    "LS=Lasso()\n",
    "RD=Ridge()\n",
    "KNN=KNeighborsRegressor()\n",
    "RF=RandomForestRegressor()\n",
    "ADA=AdaBoostRegressor()"
   ]
  },
  {
   "cell_type": "code",
   "execution_count": 139,
   "metadata": {},
   "outputs": [],
   "source": [
    "model=[lr,LS,RD,KNN,RF,ADA]"
   ]
  },
  {
   "cell_type": "code",
   "execution_count": 140,
   "metadata": {},
   "outputs": [
    {
     "name": "stdout",
     "output_type": "stream",
     "text": [
      "\n",
      "\n",
      "****************** LinearRegression() *******************\n",
      "\n",
      "\n",
      "score: 0.07020046946414271\n",
      "mean absolute error: 148.5422930716772\n",
      "Root mean squared error: 183.19823606409656\n",
      "Testing r2_score: 0.07739673450535345\n",
      "Training r2_score: 0.07020046946414271\n",
      "Cross Validation Score: 0.07178507376828622\n",
      "\n",
      "\n",
      "****************** Lasso() *******************\n",
      "\n",
      "\n",
      "score: 0.07013103237841622\n",
      "mean absolute error: 148.6389478102571\n",
      "Root mean squared error: 183.22045519212392\n",
      "Testing r2_score: 0.07717292576517887\n",
      "Training r2_score: 0.07013103237841622\n",
      "Cross Validation Score: 0.0717041058317269\n",
      "\n",
      "\n",
      "****************** Ridge() *******************\n",
      "\n",
      "\n",
      "score: 0.07020046589938322\n",
      "mean absolute error: 148.5431691541437\n",
      "Root mean squared error: 183.198360134349\n",
      "Testing r2_score: 0.0773954848463908\n",
      "Training r2_score: 0.07020046589938322\n",
      "Cross Validation Score: 0.07178512470682696\n",
      "\n",
      "\n",
      "****************** KNeighborsRegressor() *******************\n",
      "\n",
      "\n",
      "score: 0.28406424873496183\n",
      "mean absolute error: 154.69122414756845\n",
      "Root mean squared error: 196.08223306585344\n",
      "Testing r2_score: -0.0569365107173192\n",
      "Training r2_score: 0.28406424873496183\n",
      "Cross Validation Score: -0.002627357233349753\n",
      "\n",
      "\n",
      "****************** RandomForestRegressor() *******************\n",
      "\n",
      "\n",
      "score: 0.6035745375451725\n",
      "mean absolute error: 152.93249035981094\n",
      "Root mean squared error: 194.49260625198878\n",
      "Testing r2_score: -0.039868934354910124\n",
      "Training r2_score: 0.6035745375451725\n",
      "Cross Validation Score: -0.03486351802688514\n",
      "\n",
      "\n",
      "****************** AdaBoostRegressor() *******************\n",
      "\n",
      "\n",
      "score: 0.11341741049776966\n",
      "mean absolute error: 148.15502370407734\n",
      "Root mean squared error: 180.37327252869753\n",
      "Testing r2_score: 0.10563090939794317\n",
      "Training r2_score: 0.11341741049776966\n",
      "Cross Validation Score: 0.08511122027981338\n"
     ]
    }
   ],
   "source": [
    "for i in model:\n",
    "    print('\\n')\n",
    "    print('******************',i,'*******************')\n",
    "    print('\\n')\n",
    "    i.fit(x_train,y_train)\n",
    "    pred=i.predict(x_test)\n",
    "    pred_t=i.predict(x_train)\n",
    "    score=i.score(x_train,y_train)\n",
    "    print('score:',score)\n",
    "    print('mean absolute error:',mean_absolute_error(y_test,pred))\n",
    "    print('Root mean squared error:', np.sqrt(mean_squared_error(y_test,pred)))\n",
    "    print('Testing r2_score:',r2_score(y_test,pred))\n",
    "    print('Training r2_score:',r2_score(y_train,pred_t))\n",
    "    cvs=cross_val_score(i, x, y, cv=4)\n",
    "    print('Cross Validation Score:',cvs.mean())"
   ]
  },
  {
   "cell_type": "markdown",
   "metadata": {},
   "source": [
    "# Random forest refressor is performing good than other models with r2 score of 60%, MAE-152 and RMSE-194."
   ]
  },
  {
   "cell_type": "markdown",
   "metadata": {},
   "source": [
    "# Hyper parameter tuning:"
   ]
  },
  {
   "cell_type": "code",
   "execution_count": 141,
   "metadata": {},
   "outputs": [],
   "source": [
    "from sklearn.model_selection import GridSearchCV"
   ]
  },
  {
   "cell_type": "code",
   "execution_count": 142,
   "metadata": {},
   "outputs": [],
   "source": [
    "n_estimators = [50,100, 300, 500]\n",
    "parameters=dict(n_estimators = n_estimators)"
   ]
  },
  {
   "cell_type": "code",
   "execution_count": 143,
   "metadata": {},
   "outputs": [],
   "source": [
    "gcv=GridSearchCV(RF,parameters,cv=5)"
   ]
  },
  {
   "cell_type": "code",
   "execution_count": 144,
   "metadata": {},
   "outputs": [
    {
     "data": {
      "text/plain": [
       "GridSearchCV(cv=5, estimator=RandomForestRegressor(),\n",
       "             param_grid={'n_estimators': [50, 100, 300, 500]})"
      ]
     },
     "execution_count": 144,
     "metadata": {},
     "output_type": "execute_result"
    }
   ],
   "source": [
    "gcv.fit(x_train,y_train)"
   ]
  },
  {
   "cell_type": "code",
   "execution_count": 145,
   "metadata": {},
   "outputs": [
    {
     "data": {
      "text/plain": [
       "{'n_estimators': 500}"
      ]
     },
     "execution_count": 145,
     "metadata": {},
     "output_type": "execute_result"
    }
   ],
   "source": [
    "#checking the best parameters\n",
    "gcv.best_params_ "
   ]
  },
  {
   "cell_type": "code",
   "execution_count": 146,
   "metadata": {},
   "outputs": [
    {
     "name": "stdout",
     "output_type": "stream",
     "text": [
      "mean absolute error: 90.08873273178123\n",
      "Root mean squared error: 119.96256379190513\n",
      "r2_score: 0.6054345302155416\n"
     ]
    }
   ],
   "source": [
    "predgcv=gcv.best_estimator_.predict(x_train)\n",
    "print('mean absolute error:',mean_absolute_error(y_train,predgcv))\n",
    "print('Root mean squared error:', np.sqrt(mean_squared_error(y_train,predgcv)))\n",
    "print('r2_score:',r2_score(y_train,predgcv))"
   ]
  },
  {
   "cell_type": "markdown",
   "metadata": {},
   "source": [
    "# So, after doing hyper model tunning slighly better r2 score with 61% and mae with 90 & rmse with 119."
   ]
  },
  {
   "cell_type": "markdown",
   "metadata": {},
   "source": [
    "# Model Saving"
   ]
  },
  {
   "cell_type": "code",
   "execution_count": 147,
   "metadata": {},
   "outputs": [
    {
     "data": {
      "text/plain": [
       "['Doctor_fees_rf.obj']"
      ]
     },
     "execution_count": 147,
     "metadata": {},
     "output_type": "execute_result"
    }
   ],
   "source": [
    "#Saving our model\n",
    "import joblib\n",
    "joblib.dump(gcv.best_estimator_,'Doctor_fees_rf.obj')"
   ]
  },
  {
   "cell_type": "markdown",
   "metadata": {},
   "source": [
    "# Test Data"
   ]
  },
  {
   "cell_type": "markdown",
   "metadata": {},
   "source": [
    "# Load data"
   ]
  },
  {
   "cell_type": "code",
   "execution_count": 148,
   "metadata": {},
   "outputs": [
    {
     "data": {
      "text/html": [
       "<div>\n",
       "<style scoped>\n",
       "    .dataframe tbody tr th:only-of-type {\n",
       "        vertical-align: middle;\n",
       "    }\n",
       "\n",
       "    .dataframe tbody tr th {\n",
       "        vertical-align: top;\n",
       "    }\n",
       "\n",
       "    .dataframe thead th {\n",
       "        text-align: right;\n",
       "    }\n",
       "</style>\n",
       "<table border=\"1\" class=\"dataframe\">\n",
       "  <thead>\n",
       "    <tr style=\"text-align: right;\">\n",
       "      <th></th>\n",
       "      <th>Qualification</th>\n",
       "      <th>Experience</th>\n",
       "      <th>Rating</th>\n",
       "      <th>Place</th>\n",
       "      <th>Profile</th>\n",
       "      <th>Miscellaneous_Info</th>\n",
       "    </tr>\n",
       "  </thead>\n",
       "  <tbody>\n",
       "    <tr>\n",
       "      <th>0</th>\n",
       "      <td>MBBS</td>\n",
       "      <td>35 years experience</td>\n",
       "      <td>NaN</td>\n",
       "      <td>Ghatkopar East, Mumbai</td>\n",
       "      <td>General Medicine</td>\n",
       "      <td>NaN</td>\n",
       "    </tr>\n",
       "    <tr>\n",
       "      <th>1</th>\n",
       "      <td>MBBS, Diploma in Otorhinolaryngology (DLO)</td>\n",
       "      <td>31 years experience</td>\n",
       "      <td>NaN</td>\n",
       "      <td>West Marredpally, Hyderabad</td>\n",
       "      <td>ENT Specialist</td>\n",
       "      <td>NaN</td>\n",
       "    </tr>\n",
       "    <tr>\n",
       "      <th>2</th>\n",
       "      <td>MBBS, DDVL</td>\n",
       "      <td>40 years experience</td>\n",
       "      <td>70%</td>\n",
       "      <td>KK Nagar, Chennai</td>\n",
       "      <td>Dermatologists</td>\n",
       "      <td>70% 4 Feedback KK Nagar, Chennai</td>\n",
       "    </tr>\n",
       "    <tr>\n",
       "      <th>3</th>\n",
       "      <td>BAMS</td>\n",
       "      <td>0 years experience</td>\n",
       "      <td>NaN</td>\n",
       "      <td>New Ashok Nagar, Delhi</td>\n",
       "      <td>Ayurveda</td>\n",
       "      <td>NaN</td>\n",
       "    </tr>\n",
       "    <tr>\n",
       "      <th>4</th>\n",
       "      <td>BDS, MDS - Conservative Dentistry &amp; Endodontics</td>\n",
       "      <td>16 years experience</td>\n",
       "      <td>100%</td>\n",
       "      <td>Kanakpura Road, Bangalore</td>\n",
       "      <td>Dentist</td>\n",
       "      <td>General Dentistry Conservative Dentistry Cosme...</td>\n",
       "    </tr>\n",
       "  </tbody>\n",
       "</table>\n",
       "</div>"
      ],
      "text/plain": [
       "                                     Qualification           Experience  \\\n",
       "0                                             MBBS  35 years experience   \n",
       "1       MBBS, Diploma in Otorhinolaryngology (DLO)  31 years experience   \n",
       "2                                       MBBS, DDVL  40 years experience   \n",
       "3                                             BAMS   0 years experience   \n",
       "4  BDS, MDS - Conservative Dentistry & Endodontics  16 years experience   \n",
       "\n",
       "  Rating                        Place           Profile  \\\n",
       "0    NaN       Ghatkopar East, Mumbai  General Medicine   \n",
       "1    NaN  West Marredpally, Hyderabad    ENT Specialist   \n",
       "2    70%            KK Nagar, Chennai    Dermatologists   \n",
       "3    NaN       New Ashok Nagar, Delhi          Ayurveda   \n",
       "4   100%    Kanakpura Road, Bangalore           Dentist   \n",
       "\n",
       "                                  Miscellaneous_Info  \n",
       "0                                                NaN  \n",
       "1                                                NaN  \n",
       "2                   70% 4 Feedback KK Nagar, Chennai  \n",
       "3                                                NaN  \n",
       "4  General Dentistry Conservative Dentistry Cosme...  "
      ]
     },
     "execution_count": 148,
     "metadata": {},
     "output_type": "execute_result"
    }
   ],
   "source": [
    "dft = pd.read_excel('Final_Test.xlsx')\n",
    "dft.head()"
   ]
  },
  {
   "cell_type": "markdown",
   "metadata": {},
   "source": [
    "# EDA"
   ]
  },
  {
   "cell_type": "code",
   "execution_count": 149,
   "metadata": {},
   "outputs": [
    {
     "data": {
      "text/plain": [
       "Qualification            0\n",
       "Experience               0\n",
       "Rating                1090\n",
       "Place                    6\n",
       "Profile                  0\n",
       "Miscellaneous_Info     834\n",
       "dtype: int64"
      ]
     },
     "execution_count": 149,
     "metadata": {},
     "output_type": "execute_result"
    }
   ],
   "source": [
    "dft.isnull().sum()"
   ]
  },
  {
   "cell_type": "markdown",
   "metadata": {},
   "source": [
    "null values are presnt in rating, miscellaneous info & place"
   ]
  },
  {
   "cell_type": "code",
   "execution_count": 150,
   "metadata": {},
   "outputs": [
    {
     "data": {
      "image/png": "[encoded data removed]",
      "text/plain": [
       "<Figure size 432x288 with 2 Axes>"
      ]
     },
     "metadata": {
      "needs_background": "light"
     },
     "output_type": "display_data"
    }
   ],
   "source": [
    "sns.heatmap(dft.isnull())\n",
    "plt.show()"
   ]
  },
  {
   "cell_type": "markdown",
   "metadata": {},
   "source": [
    "Converting the Testing Data into the same format like Training Dataset"
   ]
  },
  {
   "cell_type": "code",
   "execution_count": 151,
   "metadata": {},
   "outputs": [],
   "source": [
    "dft.drop('Rating',axis=1,inplace=True)\n",
    "dft.drop('Miscellaneous_Info',axis=1,inplace=True)\n",
    "dft.drop('Place',axis=1,inplace=True)"
   ]
  },
  {
   "cell_type": "code",
   "execution_count": 152,
   "metadata": {},
   "outputs": [
    {
     "data": {
      "text/plain": [
       "Qualification    0\n",
       "Experience       0\n",
       "Profile          0\n",
       "dtype: int64"
      ]
     },
     "execution_count": 152,
     "metadata": {},
     "output_type": "execute_result"
    }
   ],
   "source": [
    "dft.isnull().sum()"
   ]
  },
  {
   "cell_type": "code",
   "execution_count": 153,
   "metadata": {},
   "outputs": [
    {
     "name": "stdout",
     "output_type": "stream",
     "text": [
      "<class 'pandas.core.frame.DataFrame'>\n",
      "RangeIndex: 1987 entries, 0 to 1986\n",
      "Data columns (total 3 columns):\n",
      " #   Column         Non-Null Count  Dtype \n",
      "---  ------         --------------  ----- \n",
      " 0   Qualification  1987 non-null   object\n",
      " 1   Experience     1987 non-null   object\n",
      " 2   Profile        1987 non-null   object\n",
      "dtypes: object(3)\n",
      "memory usage: 23.3+ KB\n"
     ]
    }
   ],
   "source": [
    "dft.info()"
   ]
  },
  {
   "cell_type": "markdown",
   "metadata": {},
   "source": [
    "# Label encoding"
   ]
  },
  {
   "cell_type": "code",
   "execution_count": 154,
   "metadata": {},
   "outputs": [],
   "source": [
    "from sklearn.preprocessing import LabelEncoder,OneHotEncoder"
   ]
  },
  {
   "cell_type": "code",
   "execution_count": 155,
   "metadata": {},
   "outputs": [],
   "source": [
    "from sklearn import preprocessing\n",
    "for i in dft.columns:\n",
    "    if(len(dft[i].value_counts()) == 6):#Profile column\n",
    "        le_prof = preprocessing.LabelEncoder()\n",
    "        dft[i] = le_prof.fit_transform(dft[i])"
   ]
  },
  {
   "cell_type": "code",
   "execution_count": 156,
   "metadata": {},
   "outputs": [
    {
     "data": {
      "text/plain": [
       "array([241, 340, 258, ..., 474,  51, 384])"
      ]
     },
     "execution_count": 156,
     "metadata": {},
     "output_type": "execute_result"
    }
   ],
   "source": [
    "le=LabelEncoder()\n",
    "dft_qual=le.fit_transform(dft['Qualification'])\n",
    "dft_qual"
   ]
  },
  {
   "cell_type": "code",
   "execution_count": 157,
   "metadata": {},
   "outputs": [],
   "source": [
    "dft['Qualification']=dft_qual"
   ]
  },
  {
   "cell_type": "code",
   "execution_count": 158,
   "metadata": {},
   "outputs": [
    {
     "data": {
      "text/plain": [
       "array([28, 24, 34, ..., 56,  3, 55])"
      ]
     },
     "execution_count": 158,
     "metadata": {},
     "output_type": "execute_result"
    }
   ],
   "source": [
    "le=LabelEncoder()\n",
    "dft_exp=le.fit_transform(dft['Experience'])\n",
    "dft_exp"
   ]
  },
  {
   "cell_type": "code",
   "execution_count": 159,
   "metadata": {},
   "outputs": [],
   "source": [
    "dft['Experience']=dft_exp"
   ]
  },
  {
   "cell_type": "code",
   "execution_count": 160,
   "metadata": {},
   "outputs": [
    {
     "data": {
      "text/html": [
       "<div>\n",
       "<style scoped>\n",
       "    .dataframe tbody tr th:only-of-type {\n",
       "        vertical-align: middle;\n",
       "    }\n",
       "\n",
       "    .dataframe tbody tr th {\n",
       "        vertical-align: top;\n",
       "    }\n",
       "\n",
       "    .dataframe thead th {\n",
       "        text-align: right;\n",
       "    }\n",
       "</style>\n",
       "<table border=\"1\" class=\"dataframe\">\n",
       "  <thead>\n",
       "    <tr style=\"text-align: right;\">\n",
       "      <th></th>\n",
       "      <th>Qualification</th>\n",
       "      <th>Experience</th>\n",
       "      <th>Profile</th>\n",
       "    </tr>\n",
       "  </thead>\n",
       "  <tbody>\n",
       "    <tr>\n",
       "      <th>0</th>\n",
       "      <td>241</td>\n",
       "      <td>28</td>\n",
       "      <td>4</td>\n",
       "    </tr>\n",
       "    <tr>\n",
       "      <th>1</th>\n",
       "      <td>340</td>\n",
       "      <td>24</td>\n",
       "      <td>3</td>\n",
       "    </tr>\n",
       "    <tr>\n",
       "      <th>2</th>\n",
       "      <td>258</td>\n",
       "      <td>34</td>\n",
       "      <td>2</td>\n",
       "    </tr>\n",
       "    <tr>\n",
       "      <th>3</th>\n",
       "      <td>6</td>\n",
       "      <td>0</td>\n",
       "      <td>0</td>\n",
       "    </tr>\n",
       "    <tr>\n",
       "      <th>4</th>\n",
       "      <td>79</td>\n",
       "      <td>7</td>\n",
       "      <td>1</td>\n",
       "    </tr>\n",
       "  </tbody>\n",
       "</table>\n",
       "</div>"
      ],
      "text/plain": [
       "   Qualification  Experience  Profile\n",
       "0            241          28        4\n",
       "1            340          24        3\n",
       "2            258          34        2\n",
       "3              6           0        0\n",
       "4             79           7        1"
      ]
     },
     "execution_count": 160,
     "metadata": {},
     "output_type": "execute_result"
    }
   ],
   "source": [
    "dft.head()"
   ]
  },
  {
   "cell_type": "code",
   "execution_count": 161,
   "metadata": {},
   "outputs": [
    {
     "name": "stdout",
     "output_type": "stream",
     "text": [
      "<class 'pandas.core.frame.DataFrame'>\n",
      "RangeIndex: 1987 entries, 0 to 1986\n",
      "Data columns (total 3 columns):\n",
      " #   Column         Non-Null Count  Dtype\n",
      "---  ------         --------------  -----\n",
      " 0   Qualification  1987 non-null   int32\n",
      " 1   Experience     1987 non-null   int32\n",
      " 2   Profile        1987 non-null   int32\n",
      "dtypes: int32(3)\n",
      "memory usage: 23.3 KB\n"
     ]
    }
   ],
   "source": [
    "dft.info()"
   ]
  },
  {
   "cell_type": "markdown",
   "metadata": {},
   "source": [
    "now dtpes is int"
   ]
  },
  {
   "cell_type": "markdown",
   "metadata": {},
   "source": [
    "# Data Cleaning"
   ]
  },
  {
   "cell_type": "code",
   "execution_count": 162,
   "metadata": {},
   "outputs": [
    {
     "data": {
      "image/png": "[encoded data removed]",
      "text/plain": [
       "<Figure size 864x1800 with 36 Axes>"
      ]
     },
     "metadata": {
      "needs_background": "light"
     },
     "output_type": "display_data"
    }
   ],
   "source": [
    "dft.plot(kind='box',subplots=True,layout=(12,3),figsize=(12,25))\n",
    "plt.show()"
   ]
  },
  {
   "cell_type": "markdown",
   "metadata": {},
   "source": [
    "# Applying zscore"
   ]
  },
  {
   "cell_type": "code",
   "execution_count": 163,
   "metadata": {},
   "outputs": [
    {
     "data": {
      "text/plain": [
       "(1987, 3)"
      ]
     },
     "execution_count": 163,
     "metadata": {},
     "output_type": "execute_result"
    }
   ],
   "source": [
    "from scipy.stats import zscore\n",
    "z=np.abs(zscore(dft))\n",
    "z.shape"
   ]
  },
  {
   "cell_type": "code",
   "execution_count": 164,
   "metadata": {},
   "outputs": [
    {
     "name": "stdout",
     "output_type": "stream",
     "text": [
      "(array([], dtype=int32), array([], dtype=int32))\n"
     ]
    }
   ],
   "source": [
    "threshold=3\n",
    "print(np.where(z>3))"
   ]
  },
  {
   "cell_type": "code",
   "execution_count": 165,
   "metadata": {},
   "outputs": [
    {
     "name": "stdout",
     "output_type": "stream",
     "text": [
      "(1987, 3)\n",
      "(1987, 3)\n"
     ]
    }
   ],
   "source": [
    "dft_new=dft[(z<3).all(axis=1)]\n",
    "print(dft.shape)\n",
    "print(dft_new.shape)"
   ]
  },
  {
   "cell_type": "markdown",
   "metadata": {},
   "source": [
    "No outliers presnt "
   ]
  },
  {
   "cell_type": "markdown",
   "metadata": {},
   "source": [
    "# Skewness"
   ]
  },
  {
   "cell_type": "code",
   "execution_count": 166,
   "metadata": {},
   "outputs": [],
   "source": [
    "dft.skew()\n",
    "\n",
    "#Treating the skewness using log\n",
    "import numpy as np\n",
    "for i in dft.columns:\n",
    "\n",
    "    if dft.skew().loc[i]>0.55:\n",
    "        dft[i]=np.log1p(dft[i])"
   ]
  },
  {
   "cell_type": "code",
   "execution_count": 167,
   "metadata": {},
   "outputs": [
    {
     "data": {
      "text/plain": [
       "Qualification    0.280822\n",
       "Experience      -0.474469\n",
       "Profile          0.028926\n",
       "dtype: float64"
      ]
     },
     "execution_count": 167,
     "metadata": {},
     "output_type": "execute_result"
    }
   ],
   "source": [
    "dft.skew()"
   ]
  },
  {
   "cell_type": "markdown",
   "metadata": {},
   "source": [
    "Load Test Dataset into Random Forest Model"
   ]
  },
  {
   "cell_type": "code",
   "execution_count": 168,
   "metadata": {},
   "outputs": [
    {
     "name": "stdout",
     "output_type": "stream",
     "text": [
      "[272.5 272.5 272.5 ... 272.5 210.  272.5]\n"
     ]
    }
   ],
   "source": [
    "train_x = dft\n",
    "pred = RF.predict(train_x)\n",
    "print(pred)"
   ]
  },
  {
   "cell_type": "code",
   "execution_count": 169,
   "metadata": {},
   "outputs": [],
   "source": [
    "dft_b = pd.DataFrame(pred)"
   ]
  },
  {
   "cell_type": "code",
   "execution_count": 170,
   "metadata": {},
   "outputs": [
    {
     "data": {
      "text/html": [
       "<div>\n",
       "<style scoped>\n",
       "    .dataframe tbody tr th:only-of-type {\n",
       "        vertical-align: middle;\n",
       "    }\n",
       "\n",
       "    .dataframe tbody tr th {\n",
       "        vertical-align: top;\n",
       "    }\n",
       "\n",
       "    .dataframe thead th {\n",
       "        text-align: right;\n",
       "    }\n",
       "</style>\n",
       "<table border=\"1\" class=\"dataframe\">\n",
       "  <thead>\n",
       "    <tr style=\"text-align: right;\">\n",
       "      <th></th>\n",
       "      <th>0</th>\n",
       "    </tr>\n",
       "  </thead>\n",
       "  <tbody>\n",
       "    <tr>\n",
       "      <th>0</th>\n",
       "      <td>272.500000</td>\n",
       "    </tr>\n",
       "    <tr>\n",
       "      <th>1</th>\n",
       "      <td>272.500000</td>\n",
       "    </tr>\n",
       "    <tr>\n",
       "      <th>2</th>\n",
       "      <td>272.500000</td>\n",
       "    </tr>\n",
       "    <tr>\n",
       "      <th>3</th>\n",
       "      <td>408.166667</td>\n",
       "    </tr>\n",
       "    <tr>\n",
       "      <th>4</th>\n",
       "      <td>210.000000</td>\n",
       "    </tr>\n",
       "    <tr>\n",
       "      <th>...</th>\n",
       "      <td>...</td>\n",
       "    </tr>\n",
       "    <tr>\n",
       "      <th>1982</th>\n",
       "      <td>239.716667</td>\n",
       "    </tr>\n",
       "    <tr>\n",
       "      <th>1983</th>\n",
       "      <td>272.500000</td>\n",
       "    </tr>\n",
       "    <tr>\n",
       "      <th>1984</th>\n",
       "      <td>272.500000</td>\n",
       "    </tr>\n",
       "    <tr>\n",
       "      <th>1985</th>\n",
       "      <td>210.000000</td>\n",
       "    </tr>\n",
       "    <tr>\n",
       "      <th>1986</th>\n",
       "      <td>272.500000</td>\n",
       "    </tr>\n",
       "  </tbody>\n",
       "</table>\n",
       "<p>1987 rows × 1 columns</p>\n",
       "</div>"
      ],
      "text/plain": [
       "               0\n",
       "0     272.500000\n",
       "1     272.500000\n",
       "2     272.500000\n",
       "3     408.166667\n",
       "4     210.000000\n",
       "...          ...\n",
       "1982  239.716667\n",
       "1983  272.500000\n",
       "1984  272.500000\n",
       "1985  210.000000\n",
       "1986  272.500000\n",
       "\n",
       "[1987 rows x 1 columns]"
      ]
     },
     "execution_count": 170,
     "metadata": {},
     "output_type": "execute_result"
    }
   ],
   "source": [
    "dft_b"
   ]
  },
  {
   "cell_type": "code",
   "execution_count": 171,
   "metadata": {},
   "outputs": [],
   "source": [
    "#importing the model\n",
    "fees=joblib.load('Doctor_fees_rf.obj')"
   ]
  },
  {
   "cell_type": "code",
   "execution_count": 172,
   "metadata": {},
   "outputs": [],
   "source": [
    "x=fees.predict(dft)"
   ]
  },
  {
   "cell_type": "code",
   "execution_count": 173,
   "metadata": {},
   "outputs": [
    {
     "data": {
      "text/plain": [
       "array([259. , 259. , 259. , ..., 259. , 191.7, 259. ])"
      ]
     },
     "execution_count": 173,
     "metadata": {},
     "output_type": "execute_result"
    }
   ],
   "source": [
    "x"
   ]
  },
  {
   "cell_type": "code",
   "execution_count": 174,
   "metadata": {},
   "outputs": [],
   "source": [
    "dft_a = pd.DataFrame(x)"
   ]
  },
  {
   "cell_type": "code",
   "execution_count": 175,
   "metadata": {},
   "outputs": [
    {
     "data": {
      "text/html": [
       "<div>\n",
       "<style scoped>\n",
       "    .dataframe tbody tr th:only-of-type {\n",
       "        vertical-align: middle;\n",
       "    }\n",
       "\n",
       "    .dataframe tbody tr th {\n",
       "        vertical-align: top;\n",
       "    }\n",
       "\n",
       "    .dataframe thead th {\n",
       "        text-align: right;\n",
       "    }\n",
       "</style>\n",
       "<table border=\"1\" class=\"dataframe\">\n",
       "  <thead>\n",
       "    <tr style=\"text-align: right;\">\n",
       "      <th></th>\n",
       "      <th>0</th>\n",
       "    </tr>\n",
       "  </thead>\n",
       "  <tbody>\n",
       "    <tr>\n",
       "      <th>0</th>\n",
       "      <td>259.000000</td>\n",
       "    </tr>\n",
       "    <tr>\n",
       "      <th>1</th>\n",
       "      <td>259.000000</td>\n",
       "    </tr>\n",
       "    <tr>\n",
       "      <th>2</th>\n",
       "      <td>259.000000</td>\n",
       "    </tr>\n",
       "    <tr>\n",
       "      <th>3</th>\n",
       "      <td>421.204762</td>\n",
       "    </tr>\n",
       "    <tr>\n",
       "      <th>4</th>\n",
       "      <td>191.700000</td>\n",
       "    </tr>\n",
       "    <tr>\n",
       "      <th>...</th>\n",
       "      <td>...</td>\n",
       "    </tr>\n",
       "    <tr>\n",
       "      <th>1982</th>\n",
       "      <td>235.410000</td>\n",
       "    </tr>\n",
       "    <tr>\n",
       "      <th>1983</th>\n",
       "      <td>259.000000</td>\n",
       "    </tr>\n",
       "    <tr>\n",
       "      <th>1984</th>\n",
       "      <td>259.000000</td>\n",
       "    </tr>\n",
       "    <tr>\n",
       "      <th>1985</th>\n",
       "      <td>191.700000</td>\n",
       "    </tr>\n",
       "    <tr>\n",
       "      <th>1986</th>\n",
       "      <td>259.000000</td>\n",
       "    </tr>\n",
       "  </tbody>\n",
       "</table>\n",
       "<p>1987 rows × 1 columns</p>\n",
       "</div>"
      ],
      "text/plain": [
       "               0\n",
       "0     259.000000\n",
       "1     259.000000\n",
       "2     259.000000\n",
       "3     421.204762\n",
       "4     191.700000\n",
       "...          ...\n",
       "1982  235.410000\n",
       "1983  259.000000\n",
       "1984  259.000000\n",
       "1985  191.700000\n",
       "1986  259.000000\n",
       "\n",
       "[1987 rows x 1 columns]"
      ]
     },
     "execution_count": 175,
     "metadata": {},
     "output_type": "execute_result"
    }
   ],
   "source": [
    "dft_a"
   ]
  },
  {
   "cell_type": "code",
   "execution_count": 176,
   "metadata": {},
   "outputs": [],
   "source": [
    "#Saving the result to excel file\n",
    "dft_a.to_excel('Fees.xlsx', index=False)"
   ]
  },
  {
   "cell_type": "code",
   "execution_count": 177,
   "metadata": {},
   "outputs": [],
   "source": [
    "F=pd.read_excel('Fees.xlsx')"
   ]
  },
  {
   "cell_type": "code",
   "execution_count": 178,
   "metadata": {},
   "outputs": [
    {
     "data": {
      "text/html": [
       "<div>\n",
       "<style scoped>\n",
       "    .dataframe tbody tr th:only-of-type {\n",
       "        vertical-align: middle;\n",
       "    }\n",
       "\n",
       "    .dataframe tbody tr th {\n",
       "        vertical-align: top;\n",
       "    }\n",
       "\n",
       "    .dataframe thead th {\n",
       "        text-align: right;\n",
       "    }\n",
       "</style>\n",
       "<table border=\"1\" class=\"dataframe\">\n",
       "  <thead>\n",
       "    <tr style=\"text-align: right;\">\n",
       "      <th></th>\n",
       "      <th>0</th>\n",
       "    </tr>\n",
       "  </thead>\n",
       "  <tbody>\n",
       "    <tr>\n",
       "      <th>0</th>\n",
       "      <td>259.000000</td>\n",
       "    </tr>\n",
       "    <tr>\n",
       "      <th>1</th>\n",
       "      <td>259.000000</td>\n",
       "    </tr>\n",
       "    <tr>\n",
       "      <th>2</th>\n",
       "      <td>259.000000</td>\n",
       "    </tr>\n",
       "    <tr>\n",
       "      <th>3</th>\n",
       "      <td>421.204762</td>\n",
       "    </tr>\n",
       "    <tr>\n",
       "      <th>4</th>\n",
       "      <td>191.700000</td>\n",
       "    </tr>\n",
       "    <tr>\n",
       "      <th>...</th>\n",
       "      <td>...</td>\n",
       "    </tr>\n",
       "    <tr>\n",
       "      <th>1982</th>\n",
       "      <td>235.410000</td>\n",
       "    </tr>\n",
       "    <tr>\n",
       "      <th>1983</th>\n",
       "      <td>259.000000</td>\n",
       "    </tr>\n",
       "    <tr>\n",
       "      <th>1984</th>\n",
       "      <td>259.000000</td>\n",
       "    </tr>\n",
       "    <tr>\n",
       "      <th>1985</th>\n",
       "      <td>191.700000</td>\n",
       "    </tr>\n",
       "    <tr>\n",
       "      <th>1986</th>\n",
       "      <td>259.000000</td>\n",
       "    </tr>\n",
       "  </tbody>\n",
       "</table>\n",
       "<p>1987 rows × 1 columns</p>\n",
       "</div>"
      ],
      "text/plain": [
       "               0\n",
       "0     259.000000\n",
       "1     259.000000\n",
       "2     259.000000\n",
       "3     421.204762\n",
       "4     191.700000\n",
       "...          ...\n",
       "1982  235.410000\n",
       "1983  259.000000\n",
       "1984  259.000000\n",
       "1985  191.700000\n",
       "1986  259.000000\n",
       "\n",
       "[1987 rows x 1 columns]"
      ]
     },
     "execution_count": 178,
     "metadata": {},
     "output_type": "execute_result"
    }
   ],
   "source": [
    "F"
   ]
  },
  {
   "cell_type": "code",
   "execution_count": 180,
   "metadata": {},
   "outputs": [
    {
     "name": "stdout",
     "output_type": "stream",
     "text": [
      "Predicted value             0\n",
      "5  191.700000\n",
      "6  259.000000\n",
      "7  191.700000\n",
      "8  223.635556\n",
      "9  259.000000\n",
      "Actual_price        0\n",
      "5  210.0\n",
      "6  272.5\n",
      "7  210.0\n",
      "8  225.0\n",
      "9  272.5\n"
     ]
    }
   ],
   "source": [
    "print(\"Predicted value\",dft_a[5:10])\n",
    "print(\"Actual_price\",dft_b[5:10])"
   ]
  },
  {
   "cell_type": "markdown",
   "metadata": {},
   "source": [
    "# Completed"
   ]
  },
  {
   "cell_type": "code",
   "execution_count": null,
   "metadata": {},
   "outputs": [],
   "source": []
  }
 ],
 "metadata": {
  "kernelspec": {
   "display_name": "Python 3",
   "language": "python",
   "name": "python3"
  },
  "language_info": {
   "codemirror_mode": {
    "name": "ipython",
    "version": 3
   },
   "file_extension": ".py",
   "mimetype": "text/x-python",
   "name": "python",
   "nbconvert_exporter": "python",
   "pygments_lexer": "ipython3",
   "version": "3.8.5"
  }
 },
 "nbformat": 4,
 "nbformat_minor": 4
}
